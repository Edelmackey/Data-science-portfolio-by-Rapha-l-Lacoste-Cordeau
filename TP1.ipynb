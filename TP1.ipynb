{
  "nbformat": 4,
  "nbformat_minor": 0,
  "metadata": {
    "colab": {
      "name": "TP1.ipynb",
      "provenance": [],
      "collapsed_sections": [],
      "include_colab_link": true
    },
    "kernelspec": {
      "display_name": "Python 3",
      "language": "python",
      "name": "python3"
    },
    "language_info": {
      "codemirror_mode": {
        "name": "ipython",
        "version": 3
      },
      "file_extension": ".py",
      "mimetype": "text/x-python",
      "name": "python",
      "nbconvert_exporter": "python",
      "pygments_lexer": "ipython3",
      "version": "3.7.0"
    }
  },
  "cells": [
    {
      "cell_type": "markdown",
      "metadata": {
        "id": "view-in-github",
        "colab_type": "text"
      },
      "source": [
        "<a href=\"https://colab.research.google.com/github/Edelmackey/Data-science-portfolio-by-Raphael-Lacoste-Cordeau/blob/master/TP1.ipynb\" target=\"_parent\"><img src=\"https://colab.research.google.com/assets/colab-badge.svg\" alt=\"Open In Colab\"/></a>"
      ]
    },
    {
      "cell_type": "code",
      "metadata": {
        "colab_type": "code",
        "id": "xtHADN8RNGWH",
        "colab": {
          "base_uri": "https://localhost:8080/",
          "height": 748
        },
        "outputId": "924005a2-5e86-469b-cf4e-5a20c193adda"
      },
      "source": [
        "!pip install matplotlib\n",
        "!pip install pandas\n",
        "!pip install yfinance\n",
        "!pip install numpy\n",
        "!pip install scipy\n",
        "!pip install sklearn"
      ],
      "execution_count": null,
      "outputs": [
        {
          "output_type": "stream",
          "text": [
            "Requirement already satisfied: matplotlib in /usr/local/lib/python3.6/dist-packages (3.1.3)\n",
            "Requirement already satisfied: numpy>=1.11 in /usr/local/lib/python3.6/dist-packages (from matplotlib) (1.17.5)\n",
            "Requirement already satisfied: kiwisolver>=1.0.1 in /usr/local/lib/python3.6/dist-packages (from matplotlib) (1.1.0)\n",
            "Requirement already satisfied: cycler>=0.10 in /usr/local/lib/python3.6/dist-packages (from matplotlib) (0.10.0)\n",
            "Requirement already satisfied: pyparsing!=2.0.4,!=2.1.2,!=2.1.6,>=2.0.1 in /usr/local/lib/python3.6/dist-packages (from matplotlib) (2.4.6)\n",
            "Requirement already satisfied: python-dateutil>=2.1 in /usr/local/lib/python3.6/dist-packages (from matplotlib) (2.6.1)\n",
            "Requirement already satisfied: setuptools in /usr/local/lib/python3.6/dist-packages (from kiwisolver>=1.0.1->matplotlib) (45.1.0)\n",
            "Requirement already satisfied: six in /usr/local/lib/python3.6/dist-packages (from cycler>=0.10->matplotlib) (1.12.0)\n",
            "Requirement already satisfied: pandas in /usr/local/lib/python3.6/dist-packages (0.25.3)\n",
            "Requirement already satisfied: python-dateutil>=2.6.1 in /usr/local/lib/python3.6/dist-packages (from pandas) (2.6.1)\n",
            "Requirement already satisfied: pytz>=2017.2 in /usr/local/lib/python3.6/dist-packages (from pandas) (2018.9)\n",
            "Requirement already satisfied: numpy>=1.13.3 in /usr/local/lib/python3.6/dist-packages (from pandas) (1.17.5)\n",
            "Requirement already satisfied: six>=1.5 in /usr/local/lib/python3.6/dist-packages (from python-dateutil>=2.6.1->pandas) (1.12.0)\n",
            "Collecting yfinance\n",
            "  Downloading https://files.pythonhosted.org/packages/c2/31/8b374a12b90def92a4e27d0fc595fc43635f395984e36a075244d98bd265/yfinance-0.1.54.tar.gz\n",
            "Requirement already satisfied: pandas>=0.24 in /usr/local/lib/python3.6/dist-packages (from yfinance) (0.25.3)\n",
            "Requirement already satisfied: numpy>=1.15 in /usr/local/lib/python3.6/dist-packages (from yfinance) (1.17.5)\n",
            "Requirement already satisfied: requests>=2.20 in /usr/local/lib/python3.6/dist-packages (from yfinance) (2.21.0)\n",
            "Requirement already satisfied: multitasking>=0.0.7 in /usr/local/lib/python3.6/dist-packages (from yfinance) (0.0.9)\n",
            "Requirement already satisfied: pytz>=2017.2 in /usr/local/lib/python3.6/dist-packages (from pandas>=0.24->yfinance) (2018.9)\n",
            "Requirement already satisfied: python-dateutil>=2.6.1 in /usr/local/lib/python3.6/dist-packages (from pandas>=0.24->yfinance) (2.6.1)\n",
            "Requirement already satisfied: idna<2.9,>=2.5 in /usr/local/lib/python3.6/dist-packages (from requests>=2.20->yfinance) (2.8)\n",
            "Requirement already satisfied: urllib3<1.25,>=1.21.1 in /usr/local/lib/python3.6/dist-packages (from requests>=2.20->yfinance) (1.24.3)\n",
            "Requirement already satisfied: certifi>=2017.4.17 in /usr/local/lib/python3.6/dist-packages (from requests>=2.20->yfinance) (2019.11.28)\n",
            "Requirement already satisfied: chardet<3.1.0,>=3.0.2 in /usr/local/lib/python3.6/dist-packages (from requests>=2.20->yfinance) (3.0.4)\n",
            "Requirement already satisfied: six>=1.5 in /usr/local/lib/python3.6/dist-packages (from python-dateutil>=2.6.1->pandas>=0.24->yfinance) (1.12.0)\n",
            "Building wheels for collected packages: yfinance\n",
            "  Building wheel for yfinance (setup.py) ... \u001b[?25l\u001b[?25hdone\n",
            "  Created wheel for yfinance: filename=yfinance-0.1.54-py2.py3-none-any.whl size=22409 sha256=717f3c69c109421416da6447a6b8382b81192ea6585b54ac322ca1b085b8c54f\n",
            "  Stored in directory: /root/.cache/pip/wheels/f9/e3/5b/ec24dd2984b12d61e0abf26289746c2436a0e7844f26f2515c\n",
            "Successfully built yfinance\n",
            "Installing collected packages: yfinance\n",
            "Successfully installed yfinance-0.1.54\n",
            "Requirement already satisfied: numpy in /usr/local/lib/python3.6/dist-packages (1.17.5)\n",
            "Requirement already satisfied: scipy in /usr/local/lib/python3.6/dist-packages (1.4.1)\n",
            "Requirement already satisfied: numpy>=1.13.3 in /usr/local/lib/python3.6/dist-packages (from scipy) (1.17.5)\n",
            "Requirement already satisfied: sklearn in /usr/local/lib/python3.6/dist-packages (0.0)\n",
            "Requirement already satisfied: scikit-learn in /usr/local/lib/python3.6/dist-packages (from sklearn) (0.22.1)\n",
            "Requirement already satisfied: joblib>=0.11 in /usr/local/lib/python3.6/dist-packages (from scikit-learn->sklearn) (0.14.1)\n",
            "Requirement already satisfied: scipy>=0.17.0 in /usr/local/lib/python3.6/dist-packages (from scikit-learn->sklearn) (1.4.1)\n",
            "Requirement already satisfied: numpy>=1.11.0 in /usr/local/lib/python3.6/dist-packages (from scikit-learn->sklearn) (1.17.5)\n"
          ],
          "name": "stdout"
        }
      ]
    },
    {
      "cell_type": "code",
      "metadata": {
        "colab_type": "code",
        "id": "6xn6eXd5NGWP",
        "colab": {},
        "outputId": "70b1436e-76ba-4bd8-e884-b367bf638b58"
      },
      "source": [
        "import datetime\n",
        "import matplotlib.pyplot as plt\n",
        "import pandas as pd\n",
        "    # Pour lire les données de Yahoo Finance, vous devez installer le toolbox yfinance\n",
        "import yfinance as yf\n",
        "\n",
        "start_sp = datetime.datetime(2004,12,31)\n",
        "end_sp = datetime.datetime(2019, 12,31)\n",
        "dow30 = ['^DJI','AXP', 'AAPL', 'BA', 'CAT', 'CSCO', 'CVX', 'DD', 'XOM',\n",
        "         'GE', 'GS', 'HD', 'IBM', 'INTC', 'JNJ', 'KO', 'JPM',\n",
        "         'MCD', 'MMM', 'MRK', 'MSFT', 'NKE', 'PFE', 'PG',\n",
        "         'TRV', 'UNH', 'UTX', 'VZ', 'V', 'WMT', 'DIS']\n",
        "\n",
        "Dow_data = yf.download(dow30, start=start_sp, end=end_sp,group_by=\"ticker\")\n",
        "\n",
        "    # To access the adjusted close price, use\n",
        "data = Dow_data['^DJI']['Close']"
      ],
      "execution_count": null,
      "outputs": [
        {
          "output_type": "stream",
          "text": [
            "[*********************100%***********************]  31 of 31 completed\n"
          ],
          "name": "stdout"
        }
      ]
    },
    {
      "cell_type": "code",
      "metadata": {
        "colab_type": "code",
        "id": "hzChgmgvNGWS",
        "scrolled": true,
        "colab": {},
        "outputId": "86d14e3f-6651-4a28-db05-c1d19340f1fa"
      },
      "source": [
        "Dow_data['^DJI']['Close'].plot(grid=True)"
      ],
      "execution_count": null,
      "outputs": [
        {
          "output_type": "execute_result",
          "data": {
            "text/plain": [
              "<matplotlib.axes._subplots.AxesSubplot at 0x2063534a940>"
            ]
          },
          "metadata": {
            "tags": []
          },
          "execution_count": 4
        },
        {
          "output_type": "display_data",
          "data": {
            "image/png": "[encoded data removed]",
            "text/plain": [
              "<Figure size 432x288 with 1 Axes>"
            ]
          },
          "metadata": {
            "tags": [],
            "needs_background": "light"
          }
        }
      ]
    },
    {
      "cell_type": "code",
      "metadata": {
        "colab_type": "code",
        "id": "tgeJFskHNGWW",
        "scrolled": true,
        "colab": {},
        "outputId": "375c8034-57b3-4750-f27a-873f405644e3"
      },
      "source": [
        "    #Q1.I.a.\tCalculer les rendements quotidiens en prenant le prix de base ajusté pour les dividendes (Adj Close des 30 titres)\n",
        "df = pd.DataFrame(Dow_data[dow30]) #Met le data en dataframe\n",
        "df = df.iloc[:,df.columns.get_level_values(1)=='Adj Close'] #Va chercher chaque Adj Close des titres\n",
        "df2_dow = df.iloc[:,1:31]\n",
        "print(df2_dow)    "
      ],
      "execution_count": null,
      "outputs": [
        {
          "output_type": "stream",
          "text": [
            "                   AXP        AAPL          BA         CAT       CSCO  \\\n",
            "             Adj Close   Adj Close   Adj Close   Adj Close  Adj Close   \n",
            "Date                                                                    \n",
            "2004-12-31   39.031071    3.992987   35.961052   31.669205  14.955894   \n",
            "2005-01-03   38.712574    3.924165   35.405357   30.876747  14.955894   \n",
            "2005-01-04   38.130959    3.964467   34.717678   30.535738  14.367563   \n",
            "2005-01-05   37.788807    3.999188   35.294212   29.951128  14.375301   \n",
            "2005-01-06   37.594440    4.002288   35.064980   30.392818  14.592060   \n",
            "...                ...         ...         ...         ...        ...   \n",
            "2019-12-24  124.309135  283.596924  331.030457  146.452713  47.431313   \n",
            "2019-12-26  124.976830  289.223602  327.968689  147.187561  47.500801   \n",
            "2019-12-27  124.757584  289.113831  328.187408  147.247147  47.421387   \n",
            "2019-12-30  123.870659  290.829773  324.469513  146.492447  47.242699   \n",
            "2019-12-31  124.059998  292.954712  323.833313  146.651321  47.610001   \n",
            "\n",
            "                   CVX         DD        XOM         GE          GS  ...  \\\n",
            "             Adj Close  Adj Close  Adj Close  Adj Close   Adj Close  ...   \n",
            "Date                                                                 ...   \n",
            "2004-12-31   30.505594  49.701450  33.158928  20.907282   86.580940  ...   \n",
            "2005-01-03   29.570271  49.651237  32.402081  20.958834   87.338280  ...   \n",
            "2005-01-04   29.366936  48.577114  32.182156  20.706812   86.772392  ...   \n",
            "2005-01-05   29.558647  48.085209  32.013947  20.580790   86.381241  ...   \n",
            "2005-01-06   30.052454  48.637337  32.421478  20.746906   87.571289  ...   \n",
            "...                ...        ...        ...        ...         ...  ...   \n",
            "2019-12-24  118.949715  63.779999  69.028984  11.190000  229.910004  ...   \n",
            "2019-12-26  119.206718  63.730000  69.137428  11.230000  231.210007  ...   \n",
            "2019-12-27  118.910187  63.730000  68.900826  11.180000  230.660004  ...   \n",
            "2019-12-30  118.465378  62.290001  68.496635  11.080000  229.800003  ...   \n",
            "2019-12-31  119.117760  64.199997  68.792389  11.160000  229.929993  ...   \n",
            "\n",
            "                   NKE        PFE          PG         TRV         UNH  \\\n",
            "             Adj Close  Adj Close   Adj Close   Adj Close   Adj Close   \n",
            "Date                                                                    \n",
            "2004-12-31    5.402044  14.652821   35.589828   25.713631   37.549438   \n",
            "2005-01-03    5.402044  14.413048   35.660900   25.838490   36.948002   \n",
            "2005-01-04    5.325204  14.413048   35.215057   25.692823   36.568382   \n",
            "2005-01-05    5.261468  14.314967   35.583359   25.651201   36.696339   \n",
            "2005-01-06    5.254916  14.325860   35.757816   25.769129   37.506794   \n",
            "...                ...        ...         ...         ...         ...   \n",
            "2019-12-24  100.139999  38.892712  124.480438  135.830002  294.540009   \n",
            "2019-12-26  100.709999  38.981800  124.480438  136.289993  295.649994   \n",
            "2019-12-27  101.570000  38.922405  125.345299  136.800003  295.970001   \n",
            "2019-12-30  100.800003  38.516552  123.734871  136.490005  293.850006   \n",
            "2019-12-31  101.309998  38.783821  124.162331  136.949997  293.980011   \n",
            "\n",
            "                   UTX         VZ           V         WMT         DIS  \n",
            "             Adj Close  Adj Close   Adj Close   Adj Close   Adj Close  \n",
            "Date                                                                   \n",
            "2004-12-31   36.539799  17.139664         NaN   37.861572   22.565386  \n",
            "2005-01-03   36.416061  17.131195         NaN   38.241463   22.605978  \n",
            "2005-01-04   35.995331  16.957735         NaN   38.148285   22.362459  \n",
            "2005-01-05   35.726654  16.932344         NaN   38.198463   22.240704  \n",
            "2005-01-06   35.747856  16.914429         NaN   38.743233   22.273172  \n",
            "...                ...        ...         ...         ...         ...  \n",
            "2019-12-24  148.861588  60.648827  187.298752  119.510002  145.289993  \n",
            "2019-12-26  149.996185  60.658726  188.886444  119.519997  145.699997  \n",
            "2019-12-27  149.568207  60.896252  189.116104  119.589996  145.750000  \n",
            "2019-12-30  149.170105  60.579548  187.558365  119.400002  143.770004  \n",
            "2019-12-31  149.050674  60.767593  187.628250  118.839996  144.630005  \n",
            "\n",
            "[3777 rows x 30 columns]\n"
          ],
          "name": "stdout"
        }
      ]
    },
    {
      "cell_type": "code",
      "metadata": {
        "colab_type": "code",
        "id": "A8pBvkp2NGWb",
        "colab": {},
        "outputId": "f2f57617-dad3-4843-89a3-f3cc4ecbfe69"
      },
      "source": [
        "        #Q1.I.b.\tRendement périodique moyen\n",
        "periode = 1\n",
        "daily_df2_dow = df2_dow.pct_change(periode, fill_method = 'ffill')\n",
        "daily_df2_dow_avg = daily_df2_dow.mean(axis=0)\n",
        "print(daily_df2_dow_avg)"
      ],
      "execution_count": null,
      "outputs": [
        {
          "output_type": "stream",
          "text": [
            "AXP   Adj Close    0.000537\n",
            "AAPL  Adj Close    0.001345\n",
            "BA    Adj Close    0.000734\n",
            "CAT   Adj Close    0.000600\n",
            "CSCO  Adj Close    0.000464\n",
            "CVX   Adj Close    0.000490\n",
            "DD    Adj Close    0.000297\n",
            "XOM   Adj Close    0.000302\n",
            "GE    Adj Close    0.000018\n",
            "GS    Adj Close    0.000506\n",
            "HD    Adj Close    0.000653\n",
            "IBM   Adj Close    0.000274\n",
            "INTC  Adj Close    0.000520\n",
            "JNJ   Adj Close    0.000386\n",
            "KO    Adj Close    0.000494\n",
            "JPM   Adj Close    0.000720\n",
            "MCD   Adj Close    0.000669\n",
            "MMM   Adj Close    0.000398\n",
            "MRK   Adj Close    0.000545\n",
            "MSFT  Adj Close    0.000688\n",
            "NKE   Adj Close    0.000916\n",
            "PFE   Adj Close    0.000351\n",
            "PG    Adj Close    0.000388\n",
            "TRV   Adj Close    0.000580\n",
            "UNH   Adj Close    0.000734\n",
            "UTX   Adj Close    0.000474\n",
            "VZ    Adj Close    0.000417\n",
            "V     Adj Close    0.001120\n",
            "WMT   Adj Close    0.000376\n",
            "DIS   Adj Close    0.000618\n",
            "dtype: float64\n"
          ],
          "name": "stdout"
        }
      ]
    },
    {
      "cell_type": "code",
      "metadata": {
        "colab_type": "code",
        "id": "H94rqjTmNGWf",
        "colab": {},
        "outputId": "91b96553-d7bc-4d16-f09e-ef129c1c7812"
      },
      "source": [
        "    #Q1.I.c.\tÉcart-type des rendements\n",
        "daily_df2_dow_std = daily_df2_dow.std(axis = 0)\n",
        "print(daily_df2_dow_std)"
      ],
      "execution_count": null,
      "outputs": [
        {
          "output_type": "stream",
          "text": [
            "AXP   Adj Close    0.021536\n",
            "AAPL  Adj Close    0.020341\n",
            "BA    Adj Close    0.017434\n",
            "CAT   Adj Close    0.019701\n",
            "CSCO  Adj Close    0.017737\n",
            "CVX   Adj Close    0.016117\n",
            "DD    Adj Close    0.021421\n",
            "XOM   Adj Close    0.014769\n",
            "GE    Adj Close    0.019212\n",
            "GS    Adj Close    0.022361\n",
            "HD    Adj Close    0.015791\n",
            "IBM   Adj Close    0.013458\n",
            "INTC  Adj Close    0.017823\n",
            "JNJ   Adj Close    0.010165\n",
            "KO    Adj Close    0.010844\n",
            "JPM   Adj Close    0.023671\n",
            "MCD   Adj Close    0.011858\n",
            "MMM   Adj Close    0.013568\n",
            "MRK   Adj Close    0.015458\n",
            "MSFT  Adj Close    0.016322\n",
            "NKE   Adj Close    0.016731\n",
            "PFE   Adj Close    0.013641\n",
            "PG    Adj Close    0.010694\n",
            "TRV   Adj Close    0.016585\n",
            "UNH   Adj Close    0.019560\n",
            "UTX   Adj Close    0.014241\n",
            "VZ    Adj Close    0.012793\n",
            "V     Adj Close    0.018410\n",
            "WMT   Adj Close    0.012079\n",
            "DIS   Adj Close    0.015915\n",
            "dtype: float64\n"
          ],
          "name": "stdout"
        }
      ]
    },
    {
      "cell_type": "code",
      "metadata": {
        "colab_type": "code",
        "id": "fuJFX5GPNGWi",
        "colab": {},
        "outputId": "aa891435-37b4-46f6-b94e-297883ae7c04"
      },
      "source": [
        "    #Q1.I.d.\tMatrice des corrélations\n",
        "matrice_corr = daily_df2_dow.corr()\n",
        "print(matrice_corr)\n",
        "\n",
        "matrice_cov = daily_df2_dow.cov()\n",
        "print(matrice_cov)"
      ],
      "execution_count": null,
      "outputs": [
        {
          "output_type": "stream",
          "text": [
            "                     AXP      AAPL        BA       CAT      CSCO       CVX  \\\n",
            "               Adj Close Adj Close Adj Close Adj Close Adj Close Adj Close   \n",
            "AXP  Adj Close  1.000000  0.415203  0.502478  0.563383  0.510527  0.505822   \n",
            "AAPL Adj Close  0.415203  1.000000  0.377108  0.427400  0.453602  0.386459   \n",
            "BA   Adj Close  0.502478  0.377108  1.000000  0.544920  0.459723  0.495844   \n",
            "CAT  Adj Close  0.563383  0.427400  0.544920  1.000000  0.508940  0.589828   \n",
            "CSCO Adj Close  0.510527  0.453602  0.459723  0.508940  1.000000  0.487537   \n",
            "CVX  Adj Close  0.505822  0.386459  0.495844  0.589828  0.487537  1.000000   \n",
            "DD   Adj Close  0.532537  0.377732  0.504376  0.589542  0.477895  0.530969   \n",
            "XOM  Adj Close  0.487856  0.377975  0.503370  0.572333  0.493555  0.856113   \n",
            "GE   Adj Close  0.557961  0.377454  0.454509  0.512245  0.450615  0.471933   \n",
            "GS   Adj Close  0.650213  0.417553  0.470105  0.535437  0.503748  0.506161   \n",
            "HD   Adj Close  0.562258  0.401409  0.467315  0.496799  0.483170  0.453938   \n",
            "IBM  Adj Close  0.471662  0.437528  0.454562  0.492039  0.540340  0.485790   \n",
            "INTC Adj Close  0.509384  0.458962  0.451189  0.530778  0.577030  0.477533   \n",
            "JNJ  Adj Close  0.426721  0.302001  0.434418  0.411465  0.441065  0.485280   \n",
            "KO   Adj Close  0.405290  0.300755  0.396163  0.380105  0.407985  0.451036   \n",
            "JPM  Adj Close  0.705961  0.395578  0.455577  0.512424  0.492531  0.475226   \n",
            "MCD  Adj Close  0.406875  0.330998  0.400647  0.366815  0.389197  0.410787   \n",
            "MMM  Adj Close  0.550660  0.416204  0.525805  0.607236  0.530546  0.549739   \n",
            "MRK  Adj Close  0.407939  0.281438  0.364002  0.345356  0.391944  0.432781   \n",
            "MSFT Adj Close  0.510085  0.448952  0.466867  0.496010  0.570051  0.495182   \n",
            "NKE  Adj Close  0.482649  0.374663  0.445177  0.447252  0.449541  0.409355   \n",
            "PFE  Adj Close  0.472315  0.317534  0.408099  0.429248  0.440950  0.475667   \n",
            "PG   Adj Close  0.432664  0.295747  0.399670  0.369512  0.414384  0.457497   \n",
            "TRV  Adj Close  0.582011  0.374494  0.432702  0.452101  0.453007  0.512606   \n",
            "UNH  Adj Close  0.403628  0.318645  0.384271  0.351607  0.343890  0.421437   \n",
            "UTX  Adj Close  0.585242  0.441988  0.630809  0.638537  0.553625  0.569150   \n",
            "VZ   Adj Close  0.454212  0.309614  0.376816  0.403570  0.437109  0.462705   \n",
            "V    Adj Close  0.569826  0.458444  0.436701  0.472870  0.478098  0.458920   \n",
            "WMT  Adj Close  0.355560  0.278244  0.344449  0.329872  0.373126  0.347192   \n",
            "DIS  Adj Close  0.583954  0.407494  0.525625  0.537864  0.536037  0.540487   \n",
            "\n",
            "                      DD       XOM        GE        GS  ...       NKE  \\\n",
            "               Adj Close Adj Close Adj Close Adj Close  ... Adj Close   \n",
            "AXP  Adj Close  0.532537  0.487856  0.557961  0.650213  ...  0.482649   \n",
            "AAPL Adj Close  0.377732  0.377975  0.377454  0.417553  ...  0.374663   \n",
            "BA   Adj Close  0.504376  0.503370  0.454509  0.470105  ...  0.445177   \n",
            "CAT  Adj Close  0.589542  0.572333  0.512245  0.535437  ...  0.447252   \n",
            "CSCO Adj Close  0.477895  0.493555  0.450615  0.503748  ...  0.449541   \n",
            "CVX  Adj Close  0.530969  0.856113  0.471933  0.506161  ...  0.409355   \n",
            "DD   Adj Close  1.000000  0.529542  0.497773  0.500227  ...  0.447309   \n",
            "XOM  Adj Close  0.529542  1.000000  0.465295  0.483275  ...  0.420594   \n",
            "GE   Adj Close  0.497773  0.465295  1.000000  0.491079  ...  0.420191   \n",
            "GS   Adj Close  0.500227  0.483275  0.491079  1.000000  ...  0.423587   \n",
            "HD   Adj Close  0.481410  0.447868  0.470604  0.524656  ...  0.519600   \n",
            "IBM  Adj Close  0.477063  0.488317  0.474318  0.482463  ...  0.434597   \n",
            "INTC Adj Close  0.467834  0.493105  0.442954  0.470281  ...  0.432715   \n",
            "JNJ  Adj Close  0.406519  0.510532  0.395502  0.401631  ...  0.382352   \n",
            "KO   Adj Close  0.373108  0.465328  0.352843  0.359667  ...  0.390775   \n",
            "JPM  Adj Close  0.527031  0.461885  0.580825  0.741734  ...  0.454897   \n",
            "MCD  Adj Close  0.377234  0.421145  0.350415  0.350804  ...  0.414969   \n",
            "MMM  Adj Close  0.557118  0.564654  0.552974  0.515373  ...  0.468527   \n",
            "MRK  Adj Close  0.379077  0.448057  0.356934  0.367226  ...  0.331258   \n",
            "MSFT Adj Close  0.441243  0.499876  0.403832  0.480243  ...  0.430886   \n",
            "NKE  Adj Close  0.447309  0.420594  0.420191  0.423587  ...  1.000000   \n",
            "PFE  Adj Close  0.430124  0.496676  0.433645  0.433976  ...  0.368631   \n",
            "PG   Adj Close  0.405454  0.491946  0.390940  0.364052  ...  0.396943   \n",
            "TRV  Adj Close  0.442605  0.507772  0.471533  0.545128  ...  0.416322   \n",
            "UNH  Adj Close  0.352406  0.401141  0.343397  0.406796  ...  0.338856   \n",
            "UTX  Adj Close  0.568927  0.575767  0.556657  0.541767  ...  0.500315   \n",
            "VZ   Adj Close  0.399818  0.471418  0.426195  0.406672  ...  0.398941   \n",
            "V    Adj Close  0.453183  0.439755  0.404861  0.518218  ...  0.438870   \n",
            "WMT  Adj Close  0.333299  0.376614  0.312518  0.333984  ...  0.387200   \n",
            "DIS  Adj Close  0.536735  0.539803  0.501663  0.537705  ...  0.495767   \n",
            "\n",
            "                     PFE        PG       TRV       UNH       UTX        VZ  \\\n",
            "               Adj Close Adj Close Adj Close Adj Close Adj Close Adj Close   \n",
            "AXP  Adj Close  0.472315  0.432664  0.582011  0.403628  0.585242  0.454212   \n",
            "AAPL Adj Close  0.317534  0.295747  0.374494  0.318645  0.441988  0.309614   \n",
            "BA   Adj Close  0.408099  0.399670  0.432702  0.384271  0.630809  0.376816   \n",
            "CAT  Adj Close  0.429248  0.369512  0.452101  0.351607  0.638537  0.403570   \n",
            "CSCO Adj Close  0.440950  0.414384  0.453007  0.343890  0.553625  0.437109   \n",
            "CVX  Adj Close  0.475667  0.457497  0.512606  0.421437  0.569150  0.462705   \n",
            "DD   Adj Close  0.430124  0.405454  0.442605  0.352406  0.568927  0.399818   \n",
            "XOM  Adj Close  0.496676  0.491946  0.507772  0.401141  0.575767  0.471418   \n",
            "GE   Adj Close  0.433645  0.390940  0.471533  0.343397  0.556657  0.426195   \n",
            "GS   Adj Close  0.433976  0.364052  0.545128  0.406796  0.541767  0.406672   \n",
            "HD   Adj Close  0.446478  0.436716  0.499367  0.396956  0.562721  0.462213   \n",
            "IBM  Adj Close  0.413318  0.421773  0.462645  0.347734  0.555718  0.441702   \n",
            "INTC Adj Close  0.435577  0.390797  0.463494  0.346332  0.548401  0.425742   \n",
            "JNJ  Adj Close  0.561265  0.536412  0.486309  0.435479  0.511405  0.480020   \n",
            "KO   Adj Close  0.446652  0.549877  0.457421  0.388704  0.491128  0.475839   \n",
            "JPM  Adj Close  0.449660  0.401995  0.591441  0.374301  0.558380  0.441915   \n",
            "MCD  Adj Close  0.393635  0.449656  0.438287  0.340858  0.462719  0.394506   \n",
            "MMM  Adj Close  0.491083  0.478829  0.527073  0.403465  0.657440  0.465086   \n",
            "MRK  Adj Close  0.592012  0.456916  0.428694  0.383252  0.426087  0.436365   \n",
            "MSFT Adj Close  0.426166  0.424510  0.470133  0.377060  0.558288  0.435558   \n",
            "NKE  Adj Close  0.368631  0.396943  0.416322  0.338856  0.500315  0.398941   \n",
            "PFE  Adj Close  1.000000  0.455063  0.489583  0.424056  0.491509  0.454430   \n",
            "PG   Adj Close  0.455063  1.000000  0.464131  0.351018  0.510394  0.491596   \n",
            "TRV  Adj Close  0.489583  0.464131  1.000000  0.442545  0.548764  0.463795   \n",
            "UNH  Adj Close  0.424056  0.351018  0.442545  1.000000  0.445033  0.314927   \n",
            "UTX  Adj Close  0.491509  0.510394  0.548764  0.445033  1.000000  0.474411   \n",
            "VZ   Adj Close  0.454430  0.491596  0.463795  0.314927  0.474411  1.000000   \n",
            "V    Adj Close  0.431338  0.369120  0.470217  0.350453  0.515234  0.366592   \n",
            "WMT  Adj Close  0.399063  0.443980  0.412754  0.309282  0.437066  0.418862   \n",
            "DIS  Adj Close  0.489559  0.493949  0.527796  0.423051  0.608528  0.475602   \n",
            "\n",
            "                       V       WMT       DIS  \n",
            "               Adj Close Adj Close Adj Close  \n",
            "AXP  Adj Close  0.569826  0.355560  0.583954  \n",
            "AAPL Adj Close  0.458444  0.278244  0.407494  \n",
            "BA   Adj Close  0.436701  0.344449  0.525625  \n",
            "CAT  Adj Close  0.472870  0.329872  0.537864  \n",
            "CSCO Adj Close  0.478098  0.373126  0.536037  \n",
            "CVX  Adj Close  0.458920  0.347192  0.540487  \n",
            "DD   Adj Close  0.453183  0.333299  0.536735  \n",
            "XOM  Adj Close  0.439755  0.376614  0.539803  \n",
            "GE   Adj Close  0.404861  0.312518  0.501663  \n",
            "GS   Adj Close  0.518218  0.333984  0.537705  \n",
            "HD   Adj Close  0.496014  0.481420  0.548136  \n",
            "IBM  Adj Close  0.451956  0.373113  0.511469  \n",
            "INTC Adj Close  0.457793  0.352183  0.505394  \n",
            "JNJ  Adj Close  0.405953  0.424843  0.480877  \n",
            "KO   Adj Close  0.320049  0.397291  0.473046  \n",
            "JPM  Adj Close  0.516897  0.340921  0.545889  \n",
            "MCD  Adj Close  0.402295  0.394906  0.437636  \n",
            "MMM  Adj Close  0.467476  0.395413  0.564140  \n",
            "MRK  Adj Close  0.365899  0.357618  0.440738  \n",
            "MSFT Adj Close  0.469755  0.357533  0.519162  \n",
            "NKE  Adj Close  0.438870  0.387200  0.495767  \n",
            "PFE  Adj Close  0.431338  0.399063  0.489559  \n",
            "PG   Adj Close  0.369120  0.443980  0.493949  \n",
            "TRV  Adj Close  0.470217  0.412754  0.527796  \n",
            "UNH  Adj Close  0.350453  0.309282  0.423051  \n",
            "UTX  Adj Close  0.515234  0.437066  0.608528  \n",
            "VZ   Adj Close  0.366592  0.418862  0.475602  \n",
            "V    Adj Close  1.000000  0.347908  0.493774  \n",
            "WMT  Adj Close  0.347908  1.000000  0.405389  \n",
            "DIS  Adj Close  0.493774  0.405389  1.000000  \n",
            "\n",
            "[30 rows x 30 columns]\n",
            "                     AXP      AAPL        BA       CAT      CSCO       CVX  \\\n",
            "               Adj Close Adj Close Adj Close Adj Close Adj Close Adj Close   \n",
            "AXP  Adj Close  0.000464  0.000182  0.000189  0.000239  0.000195  0.000176   \n",
            "AAPL Adj Close  0.000182  0.000414  0.000134  0.000171  0.000164  0.000127   \n",
            "BA   Adj Close  0.000189  0.000134  0.000304  0.000187  0.000142  0.000139   \n",
            "CAT  Adj Close  0.000239  0.000171  0.000187  0.000388  0.000178  0.000187   \n",
            "CSCO Adj Close  0.000195  0.000164  0.000142  0.000178  0.000315  0.000139   \n",
            "CVX  Adj Close  0.000176  0.000127  0.000139  0.000187  0.000139  0.000260   \n",
            "DD   Adj Close  0.000246  0.000165  0.000188  0.000249  0.000182  0.000183   \n",
            "XOM  Adj Close  0.000155  0.000114  0.000130  0.000167  0.000129  0.000204   \n",
            "GE   Adj Close  0.000231  0.000148  0.000152  0.000194  0.000154  0.000146   \n",
            "GS   Adj Close  0.000313  0.000190  0.000183  0.000236  0.000200  0.000182   \n",
            "HD   Adj Close  0.000191  0.000129  0.000129  0.000155  0.000135  0.000116   \n",
            "IBM  Adj Close  0.000137  0.000120  0.000107  0.000130  0.000129  0.000105   \n",
            "INTC Adj Close  0.000196  0.000166  0.000140  0.000186  0.000182  0.000137   \n",
            "JNJ  Adj Close  0.000093  0.000062  0.000077  0.000082  0.000080  0.000080   \n",
            "KO   Adj Close  0.000095  0.000066  0.000075  0.000081  0.000078  0.000079   \n",
            "JPM  Adj Close  0.000360  0.000190  0.000188  0.000239  0.000207  0.000181   \n",
            "MCD  Adj Close  0.000104  0.000080  0.000083  0.000086  0.000082  0.000079   \n",
            "MMM  Adj Close  0.000161  0.000115  0.000124  0.000162  0.000128  0.000120   \n",
            "MRK  Adj Close  0.000136  0.000088  0.000098  0.000105  0.000107  0.000108   \n",
            "MSFT Adj Close  0.000179  0.000149  0.000133  0.000160  0.000165  0.000130   \n",
            "NKE  Adj Close  0.000174  0.000128  0.000130  0.000147  0.000133  0.000110   \n",
            "PFE  Adj Close  0.000139  0.000088  0.000097  0.000115  0.000107  0.000105   \n",
            "PG   Adj Close  0.000100  0.000064  0.000075  0.000078  0.000079  0.000079   \n",
            "TRV  Adj Close  0.000208  0.000126  0.000125  0.000148  0.000133  0.000137   \n",
            "UNH  Adj Close  0.000170  0.000127  0.000131  0.000135  0.000119  0.000133   \n",
            "UTX  Adj Close  0.000179  0.000128  0.000157  0.000179  0.000140  0.000131   \n",
            "VZ   Adj Close  0.000125  0.000081  0.000084  0.000102  0.000099  0.000095   \n",
            "V    Adj Close  0.000240  0.000159  0.000147  0.000178  0.000159  0.000140   \n",
            "WMT  Adj Close  0.000092  0.000068  0.000073  0.000079  0.000080  0.000068   \n",
            "DIS  Adj Close  0.000200  0.000132  0.000146  0.000169  0.000151  0.000139   \n",
            "\n",
            "                      DD       XOM        GE        GS  ...       NKE  \\\n",
            "               Adj Close Adj Close Adj Close Adj Close  ... Adj Close   \n",
            "AXP  Adj Close  0.000246  0.000155  0.000231  0.000313  ...  0.000174   \n",
            "AAPL Adj Close  0.000165  0.000114  0.000148  0.000190  ...  0.000128   \n",
            "BA   Adj Close  0.000188  0.000130  0.000152  0.000183  ...  0.000130   \n",
            "CAT  Adj Close  0.000249  0.000167  0.000194  0.000236  ...  0.000147   \n",
            "CSCO Adj Close  0.000182  0.000129  0.000154  0.000200  ...  0.000133   \n",
            "CVX  Adj Close  0.000183  0.000204  0.000146  0.000182  ...  0.000110   \n",
            "DD   Adj Close  0.000459  0.000168  0.000205  0.000240  ...  0.000160   \n",
            "XOM  Adj Close  0.000168  0.000218  0.000132  0.000160  ...  0.000104   \n",
            "GE   Adj Close  0.000205  0.000132  0.000369  0.000211  ...  0.000135   \n",
            "GS   Adj Close  0.000240  0.000160  0.000211  0.000500  ...  0.000158   \n",
            "HD   Adj Close  0.000163  0.000104  0.000143  0.000185  ...  0.000137   \n",
            "IBM  Adj Close  0.000138  0.000097  0.000123  0.000145  ...  0.000098   \n",
            "INTC Adj Close  0.000179  0.000130  0.000152  0.000187  ...  0.000129   \n",
            "JNJ  Adj Close  0.000089  0.000077  0.000077  0.000091  ...  0.000065   \n",
            "KO   Adj Close  0.000087  0.000075  0.000074  0.000087  ...  0.000071   \n",
            "JPM  Adj Close  0.000267  0.000161  0.000264  0.000393  ...  0.000180   \n",
            "MCD  Adj Close  0.000096  0.000074  0.000080  0.000093  ...  0.000082   \n",
            "MMM  Adj Close  0.000162  0.000113  0.000144  0.000156  ...  0.000106   \n",
            "MRK  Adj Close  0.000126  0.000102  0.000106  0.000127  ...  0.000086   \n",
            "MSFT Adj Close  0.000154  0.000121  0.000127  0.000175  ...  0.000118   \n",
            "NKE  Adj Close  0.000160  0.000104  0.000135  0.000158  ...  0.000280   \n",
            "PFE  Adj Close  0.000126  0.000100  0.000114  0.000132  ...  0.000084   \n",
            "PG   Adj Close  0.000093  0.000078  0.000080  0.000087  ...  0.000071   \n",
            "TRV  Adj Close  0.000157  0.000124  0.000150  0.000202  ...  0.000116   \n",
            "UNH  Adj Close  0.000148  0.000116  0.000129  0.000178  ...  0.000111   \n",
            "UTX  Adj Close  0.000174  0.000121  0.000152  0.000173  ...  0.000119   \n",
            "VZ   Adj Close  0.000110  0.000089  0.000105  0.000116  ...  0.000085   \n",
            "V    Adj Close  0.000191  0.000121  0.000156  0.000222  ...  0.000142   \n",
            "WMT  Adj Close  0.000086  0.000067  0.000073  0.000090  ...  0.000078   \n",
            "DIS  Adj Close  0.000183  0.000127  0.000153  0.000191  ...  0.000132   \n",
            "\n",
            "                     PFE        PG       TRV       UNH       UTX        VZ  \\\n",
            "               Adj Close Adj Close Adj Close Adj Close Adj Close Adj Close   \n",
            "AXP  Adj Close  0.000139  0.000100  0.000208  0.000170  0.000179  0.000125   \n",
            "AAPL Adj Close  0.000088  0.000064  0.000126  0.000127  0.000128  0.000081   \n",
            "BA   Adj Close  0.000097  0.000075  0.000125  0.000131  0.000157  0.000084   \n",
            "CAT  Adj Close  0.000115  0.000078  0.000148  0.000135  0.000179  0.000102   \n",
            "CSCO Adj Close  0.000107  0.000079  0.000133  0.000119  0.000140  0.000099   \n",
            "CVX  Adj Close  0.000105  0.000079  0.000137  0.000133  0.000131  0.000095   \n",
            "DD   Adj Close  0.000126  0.000093  0.000157  0.000148  0.000174  0.000110   \n",
            "XOM  Adj Close  0.000100  0.000078  0.000124  0.000116  0.000121  0.000089   \n",
            "GE   Adj Close  0.000114  0.000080  0.000150  0.000129  0.000152  0.000105   \n",
            "GS   Adj Close  0.000132  0.000087  0.000202  0.000178  0.000173  0.000116   \n",
            "HD   Adj Close  0.000096  0.000074  0.000131  0.000123  0.000127  0.000093   \n",
            "IBM  Adj Close  0.000076  0.000061  0.000103  0.000092  0.000107  0.000076   \n",
            "INTC Adj Close  0.000106  0.000074  0.000137  0.000121  0.000139  0.000097   \n",
            "JNJ  Adj Close  0.000078  0.000058  0.000082  0.000087  0.000074  0.000062   \n",
            "KO   Adj Close  0.000066  0.000064  0.000082  0.000082  0.000076  0.000066   \n",
            "JPM  Adj Close  0.000145  0.000102  0.000232  0.000173  0.000188  0.000134   \n",
            "MCD  Adj Close  0.000064  0.000057  0.000086  0.000079  0.000078  0.000060   \n",
            "MMM  Adj Close  0.000091  0.000069  0.000119  0.000107  0.000127  0.000081   \n",
            "MRK  Adj Close  0.000125  0.000076  0.000110  0.000116  0.000094  0.000086   \n",
            "MSFT Adj Close  0.000095  0.000074  0.000127  0.000120  0.000130  0.000091   \n",
            "NKE  Adj Close  0.000084  0.000071  0.000116  0.000111  0.000119  0.000085   \n",
            "PFE  Adj Close  0.000186  0.000066  0.000111  0.000113  0.000095  0.000079   \n",
            "PG   Adj Close  0.000066  0.000114  0.000082  0.000073  0.000078  0.000067   \n",
            "TRV  Adj Close  0.000111  0.000082  0.000275  0.000144  0.000130  0.000098   \n",
            "UNH  Adj Close  0.000113  0.000073  0.000144  0.000383  0.000124  0.000079   \n",
            "UTX  Adj Close  0.000095  0.000078  0.000130  0.000124  0.000203  0.000086   \n",
            "VZ   Adj Close  0.000079  0.000067  0.000098  0.000079  0.000086  0.000164   \n",
            "V    Adj Close  0.000110  0.000075  0.000150  0.000132  0.000141  0.000089   \n",
            "WMT  Adj Close  0.000066  0.000057  0.000083  0.000073  0.000075  0.000065   \n",
            "DIS  Adj Close  0.000106  0.000084  0.000139  0.000132  0.000138  0.000097   \n",
            "\n",
            "                       V       WMT       DIS  \n",
            "               Adj Close Adj Close Adj Close  \n",
            "AXP  Adj Close  0.000240  0.000092  0.000200  \n",
            "AAPL Adj Close  0.000159  0.000068  0.000132  \n",
            "BA   Adj Close  0.000147  0.000073  0.000146  \n",
            "CAT  Adj Close  0.000178  0.000079  0.000169  \n",
            "CSCO Adj Close  0.000159  0.000080  0.000151  \n",
            "CVX  Adj Close  0.000140  0.000068  0.000139  \n",
            "DD   Adj Close  0.000191  0.000086  0.000183  \n",
            "XOM  Adj Close  0.000121  0.000067  0.000127  \n",
            "GE   Adj Close  0.000156  0.000073  0.000153  \n",
            "GS   Adj Close  0.000222  0.000090  0.000191  \n",
            "HD   Adj Close  0.000146  0.000092  0.000138  \n",
            "IBM  Adj Close  0.000115  0.000061  0.000110  \n",
            "INTC Adj Close  0.000152  0.000076  0.000143  \n",
            "JNJ  Adj Close  0.000080  0.000052  0.000078  \n",
            "KO   Adj Close  0.000067  0.000052  0.000082  \n",
            "JPM  Adj Close  0.000243  0.000097  0.000206  \n",
            "MCD  Adj Close  0.000085  0.000057  0.000083  \n",
            "MMM  Adj Close  0.000121  0.000065  0.000122  \n",
            "MRK  Adj Close  0.000105  0.000067  0.000108  \n",
            "MSFT Adj Close  0.000148  0.000070  0.000135  \n",
            "NKE  Adj Close  0.000142  0.000078  0.000132  \n",
            "PFE  Adj Close  0.000110  0.000066  0.000106  \n",
            "PG   Adj Close  0.000075  0.000057  0.000084  \n",
            "TRV  Adj Close  0.000150  0.000083  0.000139  \n",
            "UNH  Adj Close  0.000132  0.000073  0.000132  \n",
            "UTX  Adj Close  0.000141  0.000075  0.000138  \n",
            "VZ   Adj Close  0.000089  0.000065  0.000097  \n",
            "V    Adj Close  0.000339  0.000079  0.000152  \n",
            "WMT  Adj Close  0.000079  0.000146  0.000078  \n",
            "DIS  Adj Close  0.000152  0.000078  0.000253  \n",
            "\n",
            "[30 rows x 30 columns]\n"
          ],
          "name": "stdout"
        }
      ]
    },
    {
      "cell_type": "code",
      "metadata": {
        "id": "Ny967K2ZusmM",
        "colab_type": "code",
        "colab": {},
        "outputId": "2fdaef97-5cc0-447a-85bb-447467ea7625"
      },
      "source": [
        "    #Q1.II.a et b.\tPortefeuille à variance minimale\n",
        "import numpy as np\n",
        "from scipy.optimize import minimize\n",
        "#daily_df2_dow = daily return\n",
        "poids_0 = np.full((daily_df2_dow.shape[1],1), 1/daily_df2_dow.shape[1])\n",
        "volatilite = np.sqrt(np.dot(poids_0.T, np.dot(matrice_cov, poids_0)))\n",
        "\n",
        "    def variance_portefeuille(w,cov):\n",
        "        return np.sqrt(np.dot(w.T, np.dot(cov, w)))\n",
        "\n",
        "from scipy.optimize import Bounds\n",
        "\n",
        "contraintes = {'type': 'eq', 'fun': lambda x: np.sum(x) - 1}\n",
        "bounds =[(0,None) for x in range(daily_df2_dow.shape[1])]\n",
        "\n",
        "res = minimize(variance_portefeuille, poids_0, args = matrice_cov, constraints=contraintes, bounds= bounds)\n",
        "poids_0 = res.x\n",
        "mu_0 = poids_0*daily_df2_dow_avg\n",
        "var_0 = np.sqrt(np.dot(poids_0.T, np.dot(matrice_cov, poids_0)))\n",
        "\n",
        "print(\"Portefeuille sans contraintes\")\n",
        "print(\"volatilité =\", volatilite)\n",
        "print(\"Somme des poids = \", np.sum(poids_0).round(5))\n",
        "print(\"Rendement du portefeuille =\", np.sum(mu_0).round(5))\n",
        "print(\"Variance du portefeuille =\", var_0.round(5))"
      ],
      "execution_count": null,
      "outputs": [
        {
          "output_type": "stream",
          "text": [
            "Portefeuille sans contraintes\n",
            "volatilité = [[0.01130597]]\n",
            "Somme des poids =  1.0\n",
            "Rendement du portefeuille = 0.00045\n",
            "Variance du portefeuille = 0.00827\n"
          ],
          "name": "stdout"
        }
      ]
    },
    {
      "cell_type": "code",
      "metadata": {
        "id": "8uajCI7wusmQ",
        "colab_type": "code",
        "colab": {},
        "outputId": "dc03b01b-d4d5-4dff-8e9b-a2165fec71f4"
      },
      "source": [
        "    #Q1.III.a et b.\tPortefeuille à variance minimale avec contraintes (poids minimum = 2%, poids maximum = 20%)\n",
        "contraintes = {'type': 'eq', 'fun': lambda x: np.sum(x) - 1}\n",
        "limites =[(0.02,0.2) for x in range(daily_df2_dow.shape[1])]\n",
        "\n",
        "res = minimize(variance_portefeuille, poids_0, args = matrice_cov, constraints=contraintes, bounds= limites)\n",
        "poids_1 = res.x\n",
        "mu_1 = poids_1*daily_df2_dow_avg\n",
        "var_1 = np.sqrt(np.dot(poids_1.T, np.dot(matrice_cov, poids_1)))\n",
        "\n",
        "print(\"Portefeuille avec contraintes\")\n",
        "print(\"Somme des poids = \", np.sum(poids_1).round(5))\n",
        "print(\"Rendement du portefeuille =\", np.sum(mu_1).round(5))\n",
        "print(\"Variance du portefeuille =\", var_1.round(5))"
      ],
      "execution_count": null,
      "outputs": [
        {
          "output_type": "stream",
          "text": [
            "Portefeuille avec contraintes\n",
            "Somme des poids =  1.0\n",
            "Rendement du portefeuille = 0.00051\n",
            "Variance du portefeuille = 0.00968\n"
          ],
          "name": "stdout"
        }
      ]
    },
    {
      "cell_type": "code",
      "metadata": {
        "id": "pFo4nhSCusmV",
        "colab_type": "code",
        "colab": {},
        "outputId": "d158ef68-245e-48e9-cd88-7298ffcfbe8f"
      },
      "source": [
        "    #Q1.IV.a.i et ii.\t10 portefeuilles avec rendement min = portefeuille à variance minimale, rendement max = 90% rendement\n",
        "rendement_max = np.max(daily_df2_dow_avg) #Portefeuille a rendement max\n",
        "print(\"Rendement maximal =\", rendement_max.round(5))\n",
        "\n",
        "rendement_max90 = 0.9*rendement_max #Portefeuille a 90% du rendement\n",
        "print(\"90% du rendement maximal =\", rendement_max90.round(5))\n",
        "\n",
        "contraintes = ({'type': 'eq', 'fun': lambda x: np.sum(x)-1.0}, {'type': 'eq', 'fun': lambda x: np.sum(x*daily_df2_dow_avg)-rendement_max90})\n",
        "limites = [(0, None) for x in range(daily_df2_dow.shape[1])]\n",
        "               \n",
        "res = minimize(variance_portefeuille, poids_0, args = matrice_cov, method = 'SLSQP', constraints = contraintes, bounds = limites, options = {'maxiter':100000})\n",
        "poids_2 = res.x\n",
        "mu_2 = poids_2*daily_df2_dow_avg\n",
        "var_2 = np.sqrt(np.dot(poids_2.T, np.dot(matrice_cov, poids_2)))\n",
        "\n",
        "print(\"Portefeuille avec contraintes\")\n",
        "print(\"Somme des poids = \", np.sum(poids_2).round(5))\n",
        "print(\"Rendement du portefeuille =\", np.sum(mu_2).round(5))\n",
        "print(\"Variance du portefeuille =\", var_2.round(5))\n",
        "\n",
        "#Identification de 8 autres portefeuilles entre le min et le max\n",
        "interval = np.linspace(np.sum(mu_0), np.sum(mu_2), num = 10)\n",
        "interval_2 = interval[1:-1]\n",
        "print(\"8 rendements de portefeuilles entre le min et max = \", interval_2)\n",
        "\n",
        "#optimisation des 8 portefeuilles\n",
        "poids = []\n",
        "    for i in range(0, len(interval_2)):\n",
        "        contraintes = ({'type': 'eq', 'fun': lambda x: np.sum(x)-1.0}, {'type': 'eq', 'fun': lambda x: (np.sum(x*daily_df2_dow_avg))-interval_2[i]}) \n",
        "        limites = [(0,None) for x in range(daily_df2_dow.shape[1])]\n",
        "        res = minimize(variance_portefeuille, poids_0, args = matrice_cov, method = 'SLSQP', constraints = contraintes, bounds = limites)\n",
        "        poids.append(res.x)\n",
        "\n",
        "rendement = []\n",
        "volatilite = []\n",
        "    for i in range(0, len(poids)):\n",
        "        rendement.append(np.sum(poids[i]*daily_df2_dow_avg))\n",
        "        volatilite.append(np.sqrt(np.dot(poids[i].T, np.dot(matrice_cov, poids[i]))))\n",
        "        \n",
        "ax = plt.subplot(1,1,1)\n",
        "ax.scatter(volatilite, rendement)\n",
        "ax.plot(var_2, np.sum(mu_2), \"or\")\n",
        "ax.plot(var_0, np.sum(mu_0), \"or\")\n",
        "plt.xlim(0.005, 0.02)\n",
        "plt.ylim(0, 0.00150)\n",
        "plt.xlabel(\"Écart-type $\\sigma$\")\n",
        "plt.ylabel(\"Rendement quotidien\")\n",
        "plt.title(\"Frontière Éfficiente des 10 portefeuilles\")\n",
        "plt.show()"
      ],
      "execution_count": null,
      "outputs": [
        {
          "output_type": "stream",
          "text": [
            "Rendement maximal = 0.00135\n",
            "90% du rendement maximal = 0.00121\n",
            "Portefeuille avec contraintes\n",
            "Somme des poids =  1.0\n",
            "Rendement du portefeuille = 0.00121\n",
            "Variance du portefeuille = 0.01572\n",
            "8 rendements de portefeuilles entre le min et max =  [0.00053031 0.00061537 0.00070042 0.00078548 0.00087054 0.00095559\n",
            " 0.00104065 0.00112571]\n"
          ],
          "name": "stdout"
        },
        {
          "output_type": "display_data",
          "data": {
            "image/png": "[encoded data removed]",
            "text/plain": [
              "<Figure size 432x288 with 1 Axes>"
            ]
          },
          "metadata": {
            "tags": [],
            "needs_background": "light"
          }
        }
      ]
    },
    {
      "cell_type": "code",
      "metadata": {
        "colab_type": "code",
        "id": "AnWFvVgqN2WY",
        "colab": {}
      },
      "source": [
        "#Q2 VAR historique sur une période de 250 jours (portefeuille équi-pondéré)"
      ],
      "execution_count": null,
      "outputs": []
    },
    {
      "cell_type": "code",
      "metadata": {
        "colab_type": "code",
        "id": "J4pZpehgUfpQ",
        "colab": {}
      },
      "source": [
        "equi_poids=np.full((daily_df2_dow.shape[1],1), 1/daily_df2_dow[1]) #Poids équipondérés\n",
        "print(equi_poids)\n",
        "#intervalle=equi_poids.T*daily_df2_dow[-250:] #dernier 250 jours\n",
        "#intervalle_rendement= intervalle.sum(axis=1)\n",
        "#decr_intervalle_rendement= sorted(intervalle_rendement) \n",
        "\n",
        "#print(0.05*len(decr_intervalle_rendement))"
      ],
      "execution_count": null,
      "outputs": []
    },
    {
      "cell_type": "markdown",
      "metadata": {
        "colab_type": "text",
        "id": "1wgRClL3hqmp"
      },
      "source": [
        "Résultat = position pour l'estimation du rendement "
      ]
    },
    {
      "cell_type": "code",
      "metadata": {
        "colab_type": "code",
        "id": "5W1xFE34iWrc",
        "colab": {}
      },
      "source": [
        "print(decr_intervalle_rendement[Résultat])"
      ],
      "execution_count": null,
      "outputs": []
    },
    {
      "cell_type": "code",
      "metadata": {
        "colab_type": "code",
        "id": "JjBB1TZ1il_1",
        "colab": {}
      },
      "source": [
        "#VAR historique sur 5 jours (diviser par racine de 50)\n",
        "\n",
        "VAR5=decr_intervalle_rendement[Résultat]/(np.sqrt(50))\n",
        "print(VaR5)"
      ],
      "execution_count": null,
      "outputs": []
    },
    {
      "cell_type": "code",
      "metadata": {
        "colab_type": "code",
        "id": "TPvCClb-lowK",
        "colab": {}
      },
      "source": [
        "#Q2.2 VAR paramétrique "
      ],
      "execution_count": null,
      "outputs": []
    },
    {
      "cell_type": "code",
      "metadata": {
        "colab_type": "code",
        "id": "6oy9-MA7lxBU",
        "colab": {}
      },
      "source": [
        "rend=equi_poids.T*daily_df2_dow\n",
        "\n",
        "rend=rend.sum(axis=1)     \n",
        "#Pour le calcul avec loi normale\n",
        "rend_moyen=rend.mean(axis=0)\n",
        "rend_sigma=rend.std(axis=0)\n",
        "\n",
        "#Utiliser la formule 〖VAR〗_(95%)=μ-1.96σ et 〖VAR〗_(95%)=((1+μ)^T-1)-1.96σ√T pour l'ajustement\n",
        "\n",
        "VAR95=rend_moyen-(1.96*rend_sigma)\n",
        "VAR5jours=VAR95*(np.sqrt(5))\n",
        "print(VaR5days)\n",
        "\n"
      ],
      "execution_count": null,
      "outputs": []
    },
    {
      "cell_type": "code",
      "metadata": {
        "colab_type": "code",
        "id": "4EXmOkTtqZAb",
        "colab": {}
      },
      "source": [
        "# Q2.3 VAR modifiée avec la correction de Cornish Fisher \n",
        "\n",
        "\n",
        "import scipy.stats as sp\n",
        "from scipy.stats import kurtosis\n",
        "from scipy.stats import skew\n",
        "\n",
        "CF=sp.norm.ppf(0.99, loc=0, scale=1)\n",
        "skew_rend = skew(rend) # test de skewness\n",
        "kurtosis_rend = kurtosis(rend) #kurtosis sur le rendement\n",
        "\n",
        "\n",
        "ZCF = CF + (((CF**2-1)*s)/6) + (((CF**3-3*CF)*kurtosis_rend)/24)- ((((2*CF**3)-5*CF)*skew_rend**2)/36)\n",
        "VAR = (rend_moyen - (ZCF * rend_sigma)) \n",
        "\n",
        "VAR5jours=VAR*np.sqrt(5)\n",
        "print(VAR5jours)"
      ],
      "execution_count": null,
      "outputs": []
    },
    {
      "cell_type": "code",
      "metadata": {
        "id": "HJs4frgazpPE",
        "colab_type": "code",
        "colab": {}
      },
      "source": [
        "#Q2.4\tVAR à la RiskMetrics avec un α de 97 %.\n",
        "\n",
        "# Étape 1 : Diviser l'échentillon pour faire une moyenne mobile avec pondération\n",
        "\n",
        "intervalle_6mois=np.array_split(rend, 30)\n",
        "\n",
        "intervalle_ini=intervalle_6mois[0].mean(axis=0)     ## rendements et volatilité de la première période\n",
        "sigma_base=intervalle_6mois[0].std(axis=0)\n",
        "alpha=0.97\n",
        "\n",
        "for i in range (1,len(intervalle_6mois)):\n",
        "    sigma = np.sqrt((alpha*sigma_base**2)+((1-alpha)*intervalle_ini**2))\n",
        "    sigma_base=sigma\n",
        "   intervalle_ini=intervalle_6mois[i].mean(axis=0)\n",
        "    \n",
        "VAR_6mois_Fisher=(1.96*sigma)\n",
        "VAR_5jours_Fisher=VAR_6mois_Fisher/np.sqrt(36)      ##36 périodes de 5 jours dans 6 mois\n",
        "print(VAR_5jours_Fisher)"
      ],
      "execution_count": null,
      "outputs": []
    },
    {
      "cell_type": "markdown",
      "metadata": {
        "id": "YaXY8MpJ2bLQ",
        "colab_type": "text"
      },
      "source": [
        "Question 3"
      ]
    },
    {
      "cell_type": "code",
      "metadata": {
        "id": "tuXN2ZSK2fmm",
        "colab_type": "code",
        "colab": {}
      },
      "source": [
        "#Simuler les rendements d’un portefeuille équi-pondéré (sauf ‘’DJI’’) sur 30 jours. Présentez 5 trajectoires. Pour vous simplifier la vie, vous pouvez choisir de simuler un portefeuille d e10 titres uniquement. \n",
        "#I.\tUtilisez un mouvement brownien arithmétique\n",
        "#a.\tSimulez 30 rendements\n",
        "#b.\tComposez ces rendements pour trouver les prix des titres ou du portefeuille à chaque période.\n",
        "#c.\tRépétez pour chacune des trajectoires\n",
        "#II.\tUtilisez un bootstrap\n",
        "#a.\tTirez au hasard avec remplacement 30 rendements. Choisissez au hasard 30 dates et prenez les rendements sur ces périodes.\n",
        "#b.\tComposez ces rendements pour trouver les prix des titres ou du portefeuille à chaque période.\n",
        "#c.\tRépétez pour chacune des trajectoires\n",
        "\n",
        "#chercher les donnees de 10 titres\n",
        "X=df.loc['2020-02-16':]\n",
        "Y=data.loc['2020-02-16':]\n",
        "\n",
        "S(t+∆t)=S(t) e^[(μ-σ^2/2)∆t+σε√∆t] \n",
        "\n",
        "On \n"
      ],
      "execution_count": null,
      "outputs": []
    },
    {
      "cell_type": "markdown",
      "metadata": {
        "id": "TZABPIhg2jtZ",
        "colab_type": "text"
      },
      "source": [
        "Question 4 "
      ]
    },
    {
      "cell_type": "code",
      "metadata": {
        "id": "HC6EXzVyxYSB",
        "colab_type": "code",
        "colab": {}
      },
      "source": [
        "#Q4.1\tFaites une réplication en utilisant un ‘’Ridge regression’’.Ajouter les contraintes suivantes :\n",
        "#•\tSomme de poids = 1\n",
        "#•\tPoids ≥ 0\n",
        "#•\tMax Poids = 20%\n",
        "\n",
        "from sklearn.linear_model import LinearRegression\n",
        "from sklearn.linear_model import Ridge\n"
      ],
      "execution_count": null,
      "outputs": []
    },
    {
      "cell_type": "code",
      "metadata": {
        "id": "0bVSzAh02sY6",
        "colab_type": "code",
        "colab": {}
      },
      "source": [
        "\n",
        "X=df.loc['2010-02-16':]\n",
        "\n",
        "Y=data.loc['2010-02-16':]\n",
        "\n",
        "dates_base=Y.index.tolist()\n",
        "\n",
        "print(X.isnull().sum().sum())   \n",
        "print(Y.isnull().sum().sum())  \n",
        "\n",
        "lr = LinearRegression()    \n",
        "lr.fit(X, Y)\n",
        "\n",
        "print(lr.coef_)"
      ],
      "execution_count": null,
      "outputs": []
    },
    {
      "cell_type": "code",
      "metadata": {
        "id": "7LEH-61xzRea",
        "colab_type": "code",
        "colab": {
          "base_uri": "https://localhost:8080/",
          "height": 255
        },
        "outputId": "540f4bf9-c0bb-4fc7-c629-d02ce3c12ab6"
      },
      "source": [
        "rr = Ridge(alpha=0.005) # on recherche des faibles alpha puisque : \"the smaller the value of alpha, the higher would be the magnitude of the coefficients.\"\n",
        "rr.fit(X, Y)\n",
        "\n",
        "\n",
        "rr100 = Ridge(alpha=100)\n",
        "rr100.fit(X,Y) #  comparaison avec le alpha \n",
        "\n",
        "Lin_resultat=lr.score(X, Y)\n",
        "\n",
        "Ridge_resultat = rr.score(X,Y)\n",
        "\n",
        "Ridge_resultat100 = rr100.score(X,Y)\n",
        "\n",
        "print(Lin_resultat)\n",
        "print (Ridge_resultat)\n",
        "print(Ridge_resultat100)\n",
        "\n",
        "prediction=rr.predict(X)"
      ],
      "execution_count": null,
      "outputs": [
        {
          "output_type": "error",
          "ename": "NameError",
          "evalue": "ignored",
          "traceback": [
            "\u001b[0;31m---------------------------------------------------------------------------\u001b[0m",
            "\u001b[0;31mNameError\u001b[0m                                 Traceback (most recent call last)",
            "\u001b[0;32m<ipython-input-1-515d9ec668ca>\u001b[0m in \u001b[0;36m<module>\u001b[0;34m()\u001b[0m\n\u001b[0;32m----> 1\u001b[0;31m \u001b[0mrr\u001b[0m \u001b[0;34m=\u001b[0m \u001b[0mRidge\u001b[0m\u001b[0;34m(\u001b[0m\u001b[0malpha\u001b[0m\u001b[0;34m=\u001b[0m\u001b[0;36m0.005\u001b[0m\u001b[0;34m)\u001b[0m \u001b[0;31m# on recherche des faibles alpha puisque : \"the smaller the value of alpha, the higher would be the magnitude of the coefficients.\"\u001b[0m\u001b[0;34m\u001b[0m\u001b[0;34m\u001b[0m\u001b[0m\n\u001b[0m\u001b[1;32m      2\u001b[0m \u001b[0mrr\u001b[0m\u001b[0;34m.\u001b[0m\u001b[0mfit\u001b[0m\u001b[0;34m(\u001b[0m\u001b[0mX\u001b[0m\u001b[0;34m,\u001b[0m \u001b[0mY\u001b[0m\u001b[0;34m)\u001b[0m\u001b[0;34m\u001b[0m\u001b[0;34m\u001b[0m\u001b[0m\n\u001b[1;32m      3\u001b[0m \u001b[0;34m\u001b[0m\u001b[0m\n\u001b[1;32m      4\u001b[0m \u001b[0;34m\u001b[0m\u001b[0m\n\u001b[1;32m      5\u001b[0m \u001b[0mrr100\u001b[0m \u001b[0;34m=\u001b[0m \u001b[0mRidge\u001b[0m\u001b[0;34m(\u001b[0m\u001b[0malpha\u001b[0m\u001b[0;34m=\u001b[0m\u001b[0;36m100\u001b[0m\u001b[0;34m)\u001b[0m\u001b[0;34m\u001b[0m\u001b[0;34m\u001b[0m\u001b[0m\n",
            "\u001b[0;31mNameError\u001b[0m: name 'Ridge' is not defined"
          ]
        }
      ]
    },
    {
      "cell_type": "code",
      "metadata": {
        "id": "e9Y9fbpb3Abn",
        "colab_type": "code",
        "colab": {}
      },
      "source": [
        "\n",
        "plt.scatter(dates_base, Y, color='blue', label= 'DJI intervalle') \n",
        "plt.plot(dates_base, prediction, color='red', linewidth=3, label = 'Prediction intervalle')\n",
        "plt.title('Linear Regression | Temps vs. Intervalle')\n",
        "plt.legend()\n",
        "plt.xlabel('Date')\n",
        "plt.show()"
      ],
      "execution_count": null,
      "outputs": []
    },
    {
      "cell_type": "code",
      "metadata": {
        "id": "tbt00zr13092",
        "colab_type": "code",
        "colab": {}
      },
      "source": [
        ""
      ],
      "execution_count": null,
      "outputs": []
    }
  ]
}