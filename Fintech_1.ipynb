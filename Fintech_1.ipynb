{
  "nbformat": 4,
  "nbformat_minor": 0,
  "metadata": {
    "colab": {
      "name": "TP1.ipynb",
      "provenance": [],
      "collapsed_sections": [],
      "include_colab_link": true
    },
    "kernelspec": {
      "display_name": "Python 3",
      "language": "python",
      "name": "python3"
    },
    "language_info": {
      "codemirror_mode": {
        "name": "ipython",
        "version": 3
      },
      "file_extension": ".py",
      "mimetype": "text/x-python",
      "name": "python",
      "nbconvert_exporter": "python",
      "pygments_lexer": "ipython3",
      "version": "3.7.0"
    }
  },
  "cells": [
    {
      "cell_type": "markdown",
      "metadata": {
        "id": "view-in-github",
        "colab_type": "text"
      },
      "source": [
        "<a href=\"https://colab.research.google.com/github/Edelmackey/Data-science-portfolio-by-Raphael-Lacoste/blob/master/Fintech_1.ipynb\" target=\"_parent\"><img src=\"https://colab.research.google.com/assets/colab-badge.svg\" alt=\"Open In Colab\"/></a>"
      ]
    },
    {
      "cell_type": "code",
      "metadata": {
        "colab_type": "code",
        "id": "6xn6eXd5NGWP",
        "colab": {
          "base_uri": "https://localhost:8080/",
          "height": 34
        },
        "outputId": "963e878c-05bc-4900-9217-fd7cc5761b7a"
      },
      "source": [
        "import datetime\n",
        "import matplotlib.pyplot as plt\n",
        "import pandas as pd\n",
        "    # Pour lire les données de Yahoo Finance, vous devez installer le toolbox yfinance\n",
        "import yfinance as yf\n",
        "\n",
        "start_sp = datetime.datetime(2004,12,31)\n",
        "end_sp = datetime.datetime(2019, 12,31)\n",
        "dow30 = ['^DJI','AXP', 'AAPL', 'BA', 'CAT', 'CSCO', 'CVX', 'DD', 'XOM',\n",
        "         'GE', 'GS', 'HD', 'IBM', 'INTC', 'JNJ', 'KO', 'JPM',\n",
        "         'MCD', 'MMM', 'MRK', 'MSFT', 'NKE', 'PFE', 'PG',\n",
        "         'TRV', 'UNH', 'UTX', 'VZ', 'V', 'WMT', 'DIS']\n",
        "\n",
        "Dow_data = yf.download(dow30, start=start_sp, end=end_sp,group_by=\"ticker\")\n",
        "\n",
        "    # To access the adjusted close price, use\n",
        "data = Dow_data['^DJI']['Close']"
      ],
      "execution_count": null,
      "outputs": [
        {
          "output_type": "stream",
          "text": [
            "[*********************100%***********************]  31 of 31 completed\n"
          ],
          "name": "stdout"
        }
      ]
    },
    {
      "cell_type": "code",
      "metadata": {
        "colab_type": "code",
        "id": "hzChgmgvNGWS",
        "scrolled": true,
        "colab": {
          "base_uri": "https://localhost:8080/",
          "height": 286
        },
        "outputId": "0d809a60-6f29-45c7-e8eb-064866d7020f"
      },
      "source": [
        "Dow_data['^DJI']['Close'].plot(grid=True)"
      ],
      "execution_count": null,
      "outputs": [
        {
          "output_type": "execute_result",
          "data": {
            "text/plain": [
              "<matplotlib.axes._subplots.AxesSubplot at 0x7f1967654630>"
            ]
          },
          "metadata": {
            "tags": []
          },
          "execution_count": 3
        },
        {
          "output_type": "display_data",
          "data": {
            "image/png": "[encoded data removed]",
            "text/plain": [
              "<Figure size 432x288 with 1 Axes>"
            ]
          },
          "metadata": {
            "tags": [],
            "needs_background": "light"
          }
        }
      ]
    },
    {
      "cell_type": "code",
      "metadata": {
        "colab_type": "code",
        "id": "tgeJFskHNGWW",
        "scrolled": true,
        "colab": {
          "base_uri": "https://localhost:8080/",
          "height": 289
        },
        "outputId": "1bb9884c-7b82-4d12-c543-faaf3b55fbd0"
      },
      "source": [
        "    #Q1.I.a.\tCalculer les rendements quotidiens en prenant le prix de base ajusté pour les dividendes (Adj Close des 30 titres)\n",
        "df = pd.DataFrame(Dow_data[dow30]) #Met le data en dataframe\n",
        "df = df.iloc[:,df.columns.get_level_values(1)=='Adj Close'] #Va chercher chaque Adj Close des titres\n",
        "df2_dow = df.iloc[:,0:31]\n",
        "print(df2_dow)    "
      ],
      "execution_count": 50,
      "outputs": [
        {
          "output_type": "stream",
          "text": [
            "                    ^DJI         AXP  ...         WMT         DIS\n",
            "               Adj Close   Adj Close  ...   Adj Close   Adj Close\n",
            "Date                                  ...                        \n",
            "2004-12-31  10783.009766   38.640141  ...   37.188171   22.565386\n",
            "2005-01-03  10729.429688   38.324841  ...   37.561329   22.605978\n",
            "2005-01-04  10630.780273   37.749012  ...   37.469795   22.362459\n",
            "2005-01-05  10597.830078   37.410301  ...   37.519077   22.240704\n",
            "2005-01-06  10622.879883   37.217903  ...   38.054157   22.273172\n",
            "...                  ...         ...  ...         ...         ...\n",
            "2019-12-23  28551.529297  122.817421  ...  117.503563  144.679993\n",
            "2019-12-24  28515.449219  123.064056  ...  117.977409  145.289993\n",
            "2019-12-26  28621.390625  123.725060  ...  117.987274  145.699997\n",
            "2019-12-27  28645.259766  123.508018  ...  118.056381  145.750000\n",
            "2019-12-30  28462.140625  122.629967  ...  117.868820  143.770004\n",
            "\n",
            "[3776 rows x 31 columns]\n"
          ],
          "name": "stdout"
        }
      ]
    },
    {
      "cell_type": "code",
      "metadata": {
        "colab_type": "code",
        "id": "A8pBvkp2NGWb",
        "colab": {
          "base_uri": "https://localhost:8080/",
          "height": 578
        },
        "outputId": "cd929bcb-2a3b-432c-cf96-a397d01cf137"
      },
      "source": [
        "        #Q1.I.b.\tRendement périodique moyen\n",
        "periode = 1\n",
        "daily_df2_dow = df2_dow.pct_change(periode, fill_method = 'ffill')\n",
        "DJI = daily_df2_dow['^DJI']\n",
        "daily_df2_dow = daily_df2_dow.drop(['^DJI'], axis = 1)\n",
        "daily_df2_dow_avg = daily_df2_dow.mean(axis=0)\n",
        "print(daily_df2_dow_avg)"
      ],
      "execution_count": 51,
      "outputs": [
        {
          "output_type": "stream",
          "text": [
            "AXP   Adj Close    0.000537\n",
            "AAPL  Adj Close    0.001344\n",
            "BA    Adj Close    0.000735\n",
            "CAT   Adj Close    0.000600\n",
            "CSCO  Adj Close    0.000462\n",
            "CVX   Adj Close    0.000489\n",
            "DD    Adj Close    0.000309\n",
            "XOM   Adj Close    0.000301\n",
            "GE    Adj Close    0.000016\n",
            "GS    Adj Close    0.000506\n",
            "HD    Adj Close    0.000652\n",
            "IBM   Adj Close    0.000272\n",
            "INTC  Adj Close    0.000519\n",
            "JNJ   Adj Close    0.000385\n",
            "KO    Adj Close    0.000494\n",
            "JPM   Adj Close    0.000719\n",
            "MCD   Adj Close    0.000668\n",
            "MMM   Adj Close    0.000397\n",
            "MRK   Adj Close    0.000545\n",
            "MSFT  Adj Close    0.000688\n",
            "NKE   Adj Close    0.000915\n",
            "PFE   Adj Close    0.000349\n",
            "PG    Adj Close    0.000387\n",
            "TRV   Adj Close    0.000579\n",
            "UNH   Adj Close    0.000734\n",
            "UTX   Adj Close    0.000474\n",
            "VZ    Adj Close    0.000416\n",
            "V     Adj Close    0.001120\n",
            "WMT   Adj Close    0.000378\n",
            "DIS   Adj Close    0.000617\n",
            "dtype: float64\n"
          ],
          "name": "stdout"
        },
        {
          "output_type": "stream",
          "text": [
            "/usr/local/lib/python3.6/dist-packages/pandas/core/generic.py:3936: PerformanceWarning: dropping on a non-lexsorted multi-index without a level parameter may impact performance.\n",
            "  obj = obj._drop_axis(labels, axis, level=level, errors=errors)\n"
          ],
          "name": "stderr"
        }
      ]
    },
    {
      "cell_type": "code",
      "metadata": {
        "colab_type": "code",
        "id": "H94rqjTmNGWf",
        "colab": {
          "base_uri": "https://localhost:8080/",
          "height": 544
        },
        "outputId": "2105e79e-86fd-4e51-ea24-c449076f6445"
      },
      "source": [
        "    #Q1.I.c.\tÉcart-type des rendements\n",
        "daily_df2_dow_std = daily_df2_dow.std(axis = 0)\n",
        "print(daily_df2_dow_std)"
      ],
      "execution_count": null,
      "outputs": [
        {
          "output_type": "stream",
          "text": [
            "AXP   Adj Close    0.021539\n",
            "AAPL  Adj Close    0.020344\n",
            "BA    Adj Close    0.017437\n",
            "CAT   Adj Close    0.019704\n",
            "CSCO  Adj Close    0.017739\n",
            "CVX   Adj Close    0.016119\n",
            "DD    Adj Close    0.021418\n",
            "XOM   Adj Close    0.014771\n",
            "GE    Adj Close    0.019215\n",
            "GS    Adj Close    0.022364\n",
            "HD    Adj Close    0.015793\n",
            "IBM   Adj Close    0.013459\n",
            "INTC  Adj Close    0.017826\n",
            "JNJ   Adj Close    0.010167\n",
            "KO    Adj Close    0.010845\n",
            "JPM   Adj Close    0.023674\n",
            "MCD   Adj Close    0.011860\n",
            "MMM   Adj Close    0.013570\n",
            "MRK   Adj Close    0.015460\n",
            "MSFT  Adj Close    0.016325\n",
            "NKE   Adj Close    0.016733\n",
            "PFE   Adj Close    0.013642\n",
            "PG    Adj Close    0.010695\n",
            "TRV   Adj Close    0.016587\n",
            "UNH   Adj Close    0.019562\n",
            "UTX   Adj Close    0.014243\n",
            "VZ    Adj Close    0.012795\n",
            "V     Adj Close    0.018413\n",
            "WMT   Adj Close    0.012080\n",
            "DIS   Adj Close    0.015917\n",
            "dtype: float64\n"
          ],
          "name": "stdout"
        }
      ]
    },
    {
      "cell_type": "code",
      "metadata": {
        "colab_type": "code",
        "id": "fuJFX5GPNGWi",
        "colab": {
          "base_uri": "https://localhost:8080/",
          "height": 1000
        },
        "outputId": "070c1651-0cbe-4e20-f569-540f9ea0b82f"
      },
      "source": [
        "    #Q1.I.d.\tMatrice des corrélations\n",
        "matrice_corr = daily_df2_dow.corr()\n",
        "print(matrice_corr)\n",
        "\n",
        "matrice_cov = daily_df2_dow.cov()\n",
        "print(matrice_cov)"
      ],
      "execution_count": null,
      "outputs": [
        {
          "output_type": "stream",
          "text": [
            "                     AXP      AAPL        BA  ...         V       WMT       DIS\n",
            "               Adj Close Adj Close Adj Close  ... Adj Close Adj Close Adj Close\n",
            "AXP  Adj Close  1.000000  0.415205  0.502481  ...  0.569826  0.355557  0.583959\n",
            "AAPL Adj Close  0.415205  1.000000  0.377125  ...  0.458456  0.278266  0.407478\n",
            "BA   Adj Close  0.502481  0.377125  1.000000  ...  0.436701  0.344513  0.525648\n",
            "CAT  Adj Close  0.563383  0.427403  0.544923  ...  0.472870  0.329899  0.537869\n",
            "CSCO Adj Close  0.510534  0.453586  0.459752  ...  0.478117  0.373215  0.536021\n",
            "CVX  Adj Close  0.505825  0.386444  0.495864  ...  0.458931  0.347203  0.540474\n",
            "DD   Adj Close  0.532556  0.377558  0.505219  ...  0.453194  0.333722  0.536753\n",
            "XOM  Adj Close  0.487858  0.377961  0.503387  ...  0.439764  0.376611  0.539792\n",
            "GE   Adj Close  0.557967  0.377436  0.454535  ...  0.404874  0.312592  0.501647\n",
            "GS   Adj Close  0.650213  0.417558  0.470107  ...  0.518218  0.333951  0.537712\n",
            "HD   Adj Close  0.562260  0.401396  0.467332  ...  0.496022  0.481396  0.548125\n",
            "IBM  Adj Close  0.471682  0.437507  0.454618  ...  0.451997  0.373158  0.511447\n",
            "INTC Adj Close  0.509383  0.458955  0.451201  ...  0.457797  0.352223  0.505387\n",
            "JNJ  Adj Close  0.426724  0.301982  0.434441  ...  0.405965  0.425021  0.480861\n",
            "KO   Adj Close  0.405289  0.300751  0.396169  ...  0.320050  0.397362  0.473046\n",
            "JPM  Adj Close  0.705963  0.395569  0.455589  ...  0.516903  0.340926  0.545882\n",
            "MCD  Adj Close  0.406876  0.330984  0.400661  ...  0.402302  0.394981  0.437624\n",
            "MMM  Adj Close  0.550661  0.416194  0.525820  ...  0.467483  0.395474  0.564133\n",
            "MRK  Adj Close  0.407940  0.281448  0.364000  ...  0.365898  0.357436  0.440754\n",
            "MSFT Adj Close  0.510085  0.448957  0.466869  ...  0.469755  0.357651  0.519170\n",
            "NKE  Adj Close  0.482650  0.374651  0.445192  ...  0.438878  0.387167  0.495757\n",
            "PFE  Adj Close  0.472319  0.317531  0.408145  ...  0.431336  0.399181  0.489582\n",
            "PG   Adj Close  0.432666  0.295731  0.399688  ...  0.369128  0.444020  0.493937\n",
            "TRV  Adj Close  0.582011  0.374487  0.432711  ...  0.470220  0.412796  0.527791\n",
            "UNH  Adj Close  0.403628  0.318649  0.384272  ...  0.350452  0.309289  0.423059\n",
            "UTX  Adj Close  0.585244  0.442001  0.630808  ...  0.515233  0.437139  0.608545\n",
            "VZ   Adj Close  0.454212  0.309603  0.376828  ...  0.366596  0.418866  0.475593\n",
            "V    Adj Close  0.569826  0.458456  0.436701  ...  1.000000  0.348001  0.493786\n",
            "WMT  Adj Close  0.355557  0.278266  0.344513  ...  0.348001  1.000000  0.405334\n",
            "DIS  Adj Close  0.583959  0.407478  0.525648  ...  0.493786  0.405334  1.000000\n",
            "\n",
            "[30 rows x 30 columns]\n",
            "                     AXP      AAPL        BA  ...         V       WMT       DIS\n",
            "               Adj Close Adj Close Adj Close  ... Adj Close Adj Close Adj Close\n",
            "AXP  Adj Close  0.000464  0.000182  0.000189  ...  0.000240  0.000093  0.000200\n",
            "AAPL Adj Close  0.000182  0.000414  0.000134  ...  0.000160  0.000068  0.000132\n",
            "BA   Adj Close  0.000189  0.000134  0.000304  ...  0.000147  0.000073  0.000146\n",
            "CAT  Adj Close  0.000239  0.000171  0.000187  ...  0.000178  0.000079  0.000169\n",
            "CSCO Adj Close  0.000195  0.000164  0.000142  ...  0.000159  0.000080  0.000151\n",
            "CVX  Adj Close  0.000176  0.000127  0.000139  ...  0.000140  0.000068  0.000139\n",
            "DD   Adj Close  0.000246  0.000165  0.000189  ...  0.000191  0.000086  0.000183\n",
            "XOM  Adj Close  0.000155  0.000114  0.000130  ...  0.000121  0.000067  0.000127\n",
            "GE   Adj Close  0.000231  0.000148  0.000152  ...  0.000157  0.000073  0.000153\n",
            "GS   Adj Close  0.000313  0.000190  0.000183  ...  0.000222  0.000090  0.000191\n",
            "HD   Adj Close  0.000191  0.000129  0.000129  ...  0.000146  0.000092  0.000138\n",
            "IBM  Adj Close  0.000137  0.000120  0.000107  ...  0.000115  0.000061  0.000110\n",
            "INTC Adj Close  0.000196  0.000166  0.000140  ...  0.000152  0.000076  0.000143\n",
            "JNJ  Adj Close  0.000093  0.000062  0.000077  ...  0.000080  0.000052  0.000078\n",
            "KO   Adj Close  0.000095  0.000066  0.000075  ...  0.000067  0.000052  0.000082\n",
            "JPM  Adj Close  0.000360  0.000191  0.000188  ...  0.000243  0.000098  0.000206\n",
            "MCD  Adj Close  0.000104  0.000080  0.000083  ...  0.000085  0.000057  0.000083\n",
            "MMM  Adj Close  0.000161  0.000115  0.000124  ...  0.000121  0.000065  0.000122\n",
            "MRK  Adj Close  0.000136  0.000089  0.000098  ...  0.000105  0.000067  0.000108\n",
            "MSFT Adj Close  0.000179  0.000149  0.000133  ...  0.000148  0.000071  0.000135\n",
            "NKE  Adj Close  0.000174  0.000128  0.000130  ...  0.000142  0.000078  0.000132\n",
            "PFE  Adj Close  0.000139  0.000088  0.000097  ...  0.000110  0.000066  0.000106\n",
            "PG   Adj Close  0.000100  0.000064  0.000075  ...  0.000075  0.000057  0.000084\n",
            "TRV  Adj Close  0.000208  0.000126  0.000125  ...  0.000150  0.000083  0.000139\n",
            "UNH  Adj Close  0.000170  0.000127  0.000131  ...  0.000132  0.000073  0.000132\n",
            "UTX  Adj Close  0.000180  0.000128  0.000157  ...  0.000141  0.000075  0.000138\n",
            "VZ   Adj Close  0.000125  0.000081  0.000084  ...  0.000089  0.000065  0.000097\n",
            "V    Adj Close  0.000240  0.000160  0.000147  ...  0.000339  0.000079  0.000152\n",
            "WMT  Adj Close  0.000093  0.000068  0.000073  ...  0.000079  0.000146  0.000078\n",
            "DIS  Adj Close  0.000200  0.000132  0.000146  ...  0.000152  0.000078  0.000253\n",
            "\n",
            "[30 rows x 30 columns]\n"
          ],
          "name": "stdout"
        }
      ]
    },
    {
      "cell_type": "code",
      "metadata": {
        "id": "Ny967K2ZusmM",
        "colab_type": "code",
        "colab": {
          "base_uri": "https://localhost:8080/",
          "height": 102
        },
        "outputId": "8cc4de24-6600-4c80-bdd4-12489134775e"
      },
      "source": [
        "    #Q1.II.a et b.\tPortefeuille à variance minimale\n",
        "import numpy as np\n",
        "from scipy.optimize import minimize\n",
        "#daily_df2_dow = daily return\n",
        "poids_0 = np.full((daily_df2_dow.shape[1],1), 1/daily_df2_dow.shape[1])\n",
        "volatilite = np.sqrt(np.dot(poids_0.T, np.dot(matrice_cov, poids_0)))\n",
        "\n",
        "    def variance_portefeuille(w,cov):\n",
        "        return np.sqrt(np.dot(w.T, np.dot(cov, w)))\n",
        "\n",
        "from scipy.optimize import Bounds\n",
        "\n",
        "contraintes = {'type': 'eq', 'fun': lambda x: np.sum(x) - 1}\n",
        "bounds =[(0,None) for x in range(daily_df2_dow.shape[1])]\n",
        "\n",
        "res = minimize(variance_portefeuille, poids_0, args = matrice_cov, constraints=contraintes, bounds= bounds)\n",
        "poids_0 = res.x\n",
        "mu_0 = poids_0*daily_df2_dow_avg\n",
        "var_0 = np.sqrt(np.dot(poids_0.T, np.dot(matrice_cov, poids_0)))\n",
        "\n",
        "print(\"Portefeuille sans contraintes\")\n",
        "print(\"volatilité =\", volatilite)\n",
        "print(\"Somme des poids = \", np.sum(poids_0).round(5))\n",
        "print(\"Rendement du portefeuille =\", np.sum(mu_0).round(5))\n",
        "print(\"Variance du portefeuille =\", var_0.round(5))"
      ],
      "execution_count": null,
      "outputs": [
        {
          "output_type": "stream",
          "text": [
            "Portefeuille sans contraintes\n",
            "volatilité = [[0.01130734]]\n",
            "Somme des poids =  1.0\n",
            "Rendement du portefeuille = 0.00044\n",
            "Variance du portefeuille = 0.00827\n"
          ],
          "name": "stdout"
        }
      ]
    },
    {
      "cell_type": "code",
      "metadata": {
        "id": "8uajCI7wusmQ",
        "colab_type": "code",
        "colab": {
          "base_uri": "https://localhost:8080/",
          "height": 85
        },
        "outputId": "49bb13b2-84d4-4aa0-d455-940025ade2b3"
      },
      "source": [
        "    #Q1.III.a et b.\tPortefeuille à variance minimale avec contraintes (poids minimum = 2%, poids maximum = 20%)\n",
        "contraintes = {'type': 'eq', 'fun': lambda x: np.sum(x) - 1}\n",
        "limites =[(0.02,0.2) for x in range(daily_df2_dow.shape[1])]\n",
        "\n",
        "res = minimize(variance_portefeuille, poids_0, args = matrice_cov, constraints=contraintes, bounds= limites)\n",
        "poids_1 = res.x\n",
        "mu_1 = poids_1*daily_df2_dow_avg\n",
        "var_1 = np.sqrt(np.dot(poids_1.T, np.dot(matrice_cov, poids_1)))\n",
        "\n",
        "print(\"Portefeuille avec contraintes\")\n",
        "print(\"Somme des poids = \", np.sum(poids_1).round(5))\n",
        "print(\"Rendement du portefeuille =\", np.sum(mu_1).round(5))\n",
        "print(\"Variance du portefeuille =\", var_1.round(5))"
      ],
      "execution_count": null,
      "outputs": [
        {
          "output_type": "stream",
          "text": [
            "Portefeuille avec contraintes\n",
            "Somme des poids =  1.0\n",
            "Rendement du portefeuille = 0.00051\n",
            "Variance du portefeuille = 0.00968\n"
          ],
          "name": "stdout"
        }
      ]
    },
    {
      "cell_type": "code",
      "metadata": {
        "id": "pFo4nhSCusmV",
        "colab_type": "code",
        "colab": {
          "base_uri": "https://localhost:8080/",
          "height": 439
        },
        "outputId": "57a4716e-5053-4ad3-d02b-878b59695cb0"
      },
      "source": [
        "    #Q1.IV.a.i et ii.\t10 portefeuilles avec rendement min = portefeuille à variance minimale, rendement max = 90% rendement\n",
        "rendement_max = np.max(daily_df2_dow_avg) #Portefeuille a rendement max\n",
        "print(\"Rendement maximal =\", round(rendement_max,5))\n",
        "\n",
        "rendement_max90 = 0.9*rendement_max #Portefeuille a 90% du rendement\n",
        "print(\"90% du rendement maximal =\", round(rendement_max90,5))\n",
        "\n",
        "contraintes = ({'type': 'eq', 'fun': lambda x: np.sum(x)-1.0}, {'type': 'eq', 'fun': lambda x: np.sum(x*daily_df2_dow_avg)-rendement_max90})\n",
        "limites = [(0, None) for x in range(daily_df2_dow.shape[1])]\n",
        "               \n",
        "res = minimize(variance_portefeuille, poids_0, args = matrice_cov, method = 'SLSQP', constraints = contraintes, bounds = limites, options = {'maxiter':100000})\n",
        "poids_2 = res.x\n",
        "mu_2 = poids_2*daily_df2_dow_avg\n",
        "var_2 = np.sqrt(np.dot(poids_2.T, np.dot(matrice_cov, poids_2)))\n",
        "\n",
        "print(\"Portefeuille avec contraintes\")\n",
        "print(\"Somme des poids = \", np.sum(poids_2).round(5))\n",
        "print(\"Rendement du portefeuille =\", np.sum(mu_2).round(5))\n",
        "print(\"Variance du portefeuille =\", var_2.round(5))\n",
        "\n",
        "#Identification de 8 autres portefeuilles entre le min et le max\n",
        "interval = np.linspace(np.sum(mu_0), np.sum(mu_2), num = 10)\n",
        "interval_2 = interval[1:-1]\n",
        "print(\"8 rendements de portefeuilles entre le min et max = \", interval_2)\n",
        "\n",
        "#optimisation des 8 portefeuilles\n",
        "poids = []\n",
        "    for i in range(0, len(interval_2)):\n",
        "        contraintes = ({'type': 'eq', 'fun': lambda x: np.sum(x)-1.0}, {'type': 'eq', 'fun': lambda x: (np.sum(x*daily_df2_dow_avg))-interval_2[i]}) \n",
        "        limites = [(0,None) for x in range(daily_df2_dow.shape[1])]\n",
        "        res = minimize(variance_portefeuille, poids_0, args = matrice_cov, method = 'SLSQP', constraints = contraintes, bounds = limites)\n",
        "        poids.append(res.x)\n",
        "\n",
        "rendement = []\n",
        "volatilite = []\n",
        "    for i in range(0, len(poids)):\n",
        "        rendement.append(np.sum(poids[i]*daily_df2_dow_avg))\n",
        "        volatilite.append(np.sqrt(np.dot(poids[i].T, np.dot(matrice_cov, poids[i]))))\n",
        "        \n",
        "ax = plt.subplot(1,1,1)\n",
        "ax.scatter(volatilite, rendement)\n",
        "ax.plot(var_2, np.sum(mu_2), \"or\")\n",
        "ax.plot(var_0, np.sum(mu_0), \"or\")\n",
        "plt.xlim(0.005, 0.02)\n",
        "plt.ylim(0, 0.00150)\n",
        "plt.xlabel(\"Écart-type $\\sigma$\")\n",
        "plt.ylabel(\"Rendement quotidien\")\n",
        "plt.title(\"Frontière Éfficiente des 10 portefeuilles\")\n",
        "plt.show()"
      ],
      "execution_count": null,
      "outputs": [
        {
          "output_type": "stream",
          "text": [
            "Rendement maximal = 0.00134\n",
            "90% du rendement maximal = 0.00121\n",
            "Portefeuille avec contraintes\n",
            "Somme des poids =  1.0\n",
            "Rendement du portefeuille = 0.00121\n",
            "Variance du portefeuille = 0.01571\n",
            "8 rendements de portefeuilles entre le min et max =  [0.00052991 0.00061484 0.00069977 0.0007847  0.00086963 0.00095455\n",
            " 0.00103948 0.00112441]\n"
          ],
          "name": "stdout"
        },
        {
          "output_type": "display_data",
          "data": {
            "image/png": "[encoded data removed]",
            "text/plain": [
              "<Figure size 432x288 with 1 Axes>"
            ]
          },
          "metadata": {
            "tags": [],
            "needs_background": "light"
          }
        }
      ]
    },
    {
      "cell_type": "code",
      "metadata": {
        "colab_type": "code",
        "id": "AnWFvVgqN2WY",
        "colab": {}
      },
      "source": [
        "#Q2 VAR historique sur une période de 250 jours (portefeuille équi-pondéré)"
      ],
      "execution_count": null,
      "outputs": []
    },
    {
      "cell_type": "code",
      "metadata": {
        "colab_type": "code",
        "id": "J4pZpehgUfpQ",
        "colab": {
          "base_uri": "https://localhost:8080/",
          "height": 34
        },
        "outputId": "0ab93e6f-0ca6-489a-ac9d-ed4af7880072"
      },
      "source": [
        "equi_poids=np.full((daily_df2_dow.shape[1],1), 1/daily_df2_dow.shape[1]) #Poids équipondérés\n",
        "intervalle=equi_poids.T*daily_df2_dow[-250:] #dernier 250 jours\n",
        "intervalle_rendement= intervalle.sum(axis=1)\n",
        "decr_intervalle_rendement= sorted(intervalle_rendement) \n",
        "\n",
        "print(0.05*len(decr_intervalle_rendement))"
      ],
      "execution_count": null,
      "outputs": [
        {
          "output_type": "stream",
          "text": [
            "12.5\n"
          ],
          "name": "stdout"
        }
      ]
    },
    {
      "cell_type": "markdown",
      "metadata": {
        "colab_type": "text",
        "id": "1wgRClL3hqmp"
      },
      "source": [
        "Résultat = position pour l'estimation du rendement "
      ]
    },
    {
      "cell_type": "code",
      "metadata": {
        "colab_type": "code",
        "id": "5W1xFE34iWrc",
        "colab": {
          "base_uri": "https://localhost:8080/",
          "height": 34
        },
        "outputId": "0911e49a-9301-4967-a2a7-6ea332558682"
      },
      "source": [
        "Resultat = 13\n",
        "print(decr_intervalle_rendement[Resultat])"
      ],
      "execution_count": null,
      "outputs": [
        {
          "output_type": "stream",
          "text": [
            "-0.01257180724858973\n"
          ],
          "name": "stdout"
        }
      ]
    },
    {
      "cell_type": "code",
      "metadata": {
        "colab_type": "code",
        "id": "JjBB1TZ1il_1",
        "colab": {
          "base_uri": "https://localhost:8080/",
          "height": 34
        },
        "outputId": "55ee0449-8565-47df-cb08-c4818d4c4e36"
      },
      "source": [
        "#VAR historique sur 5 jours (diviser par racine de 50)\n",
        "VAR5=decr_intervalle_rendement[Resultat]/(np.sqrt(50))\n",
        "print(VAR5)"
      ],
      "execution_count": null,
      "outputs": [
        {
          "output_type": "stream",
          "text": [
            "-0.0017779220314495978\n"
          ],
          "name": "stdout"
        }
      ]
    },
    {
      "cell_type": "code",
      "metadata": {
        "colab_type": "code",
        "id": "TPvCClb-lowK",
        "colab": {}
      },
      "source": [
        "#Q2.2 VAR paramétrique "
      ],
      "execution_count": null,
      "outputs": []
    },
    {
      "cell_type": "code",
      "metadata": {
        "colab_type": "code",
        "id": "6oy9-MA7lxBU",
        "colab": {
          "base_uri": "https://localhost:8080/",
          "height": 34
        },
        "outputId": "0c339e8c-79e0-4da5-d863-9ebd374c35a1"
      },
      "source": [
        "rend=equi_poids.T*daily_df2_dow\n",
        "\n",
        "rend=rend.sum(axis=1)     \n",
        "#Pour le calcul avec loi normale\n",
        "rend_moyen=rend.mean(axis=0)\n",
        "rend_sigma=rend.std(axis=0)\n",
        "\n",
        "#Utiliser la formule 〖VAR〗_(95%)=μ-1.96σ et 〖VAR〗_(95%)=((1+μ)^T-1)-1.96σ√T pour l'ajustement\n",
        "\n",
        "VAR95=rend_moyen-(1.96*rend_sigma)\n",
        "VAR5jours=VAR95*(np.sqrt(5))\n",
        "print(VAR5jours)\n",
        "\n"
      ],
      "execution_count": null,
      "outputs": [
        {
          "output_type": "stream",
          "text": [
            "-0.04794065742541527\n"
          ],
          "name": "stdout"
        }
      ]
    },
    {
      "cell_type": "code",
      "metadata": {
        "colab_type": "code",
        "id": "4EXmOkTtqZAb",
        "colab": {
          "base_uri": "https://localhost:8080/",
          "height": 34
        },
        "outputId": "2744e9de-3248-4f84-a07b-7990c8e43dd8"
      },
      "source": [
        "# Q2.3 VAR modifiée avec la correction de Cornish Fisher \n",
        "import scipy.stats as sp\n",
        "from scipy.stats import kurtosis\n",
        "from scipy.stats import skew\n",
        "\n",
        "CF=sp.norm.ppf(0.99, loc=0, scale=1)\n",
        "skew_rend = skew(rend) # test de skewness\n",
        "kurtosis_rend = kurtosis(rend) #kurtosis sur le rendement\n",
        "\n",
        "\n",
        "ZCF = CF + (((CF**2-1)*skew_rend)/6) + (((CF**3-3*CF)*kurtosis_rend)/24)- ((((2*CF**3)-5*CF)*skew_rend**2)/36)\n",
        "VAR = (rend_moyen - (ZCF * rend_sigma)) \n",
        "\n",
        "VAR5jours=VAR*np.sqrt(5)\n",
        "print(VAR5jours)"
      ],
      "execution_count": null,
      "outputs": [
        {
          "output_type": "stream",
          "text": [
            "-0.13598040354896007\n"
          ],
          "name": "stdout"
        }
      ]
    },
    {
      "cell_type": "code",
      "metadata": {
        "id": "HJs4frgazpPE",
        "colab_type": "code",
        "colab": {
          "base_uri": "https://localhost:8080/",
          "height": 34
        },
        "outputId": "98f50016-07ee-486a-8c1f-a8ba9b36fe94"
      },
      "source": [
        "#Q2.4\tVAR à la RiskMetrics avec un α de 97 %.\n",
        "\n",
        "# Étape 1 : Diviser l'échentillon pour faire une moyenne mobile avec pondération\n",
        "\n",
        "intervalle_6mois=np.array_split(rend, 30)\n",
        "\n",
        "intervalle_ini=intervalle_6mois[0].mean(axis=0)     ## rendements et volatilité de la première période\n",
        "sigma_base=intervalle_6mois[0].std(axis=0)\n",
        "alpha=0.97\n",
        "\n",
        "for i in range (1,len(intervalle_6mois)):\n",
        "    sigma = np.sqrt((alpha*sigma_base**2)+((1-alpha)*intervalle_ini**2))\n",
        "    sigma_base=sigma\n",
        "    intervalle_ini=intervalle_6mois[i].mean(axis=0)\n",
        "    \n",
        "VAR_6mois_Fisher=(1.96*sigma)\n",
        "VAR_5jours_Fisher=VAR_6mois_Fisher/np.sqrt(36)      ##36 périodes de 5 jours dans 6 mois\n",
        "print(VAR_5jours_Fisher)"
      ],
      "execution_count": null,
      "outputs": [
        {
          "output_type": "stream",
          "text": [
            "0.0014707729084524942\n"
          ],
          "name": "stdout"
        }
      ]
    },
    {
      "cell_type": "markdown",
      "metadata": {
        "id": "YaXY8MpJ2bLQ",
        "colab_type": "text"
      },
      "source": [
        "Question 3"
      ]
    },
    {
      "cell_type": "code",
      "metadata": {
        "id": "tuXN2ZSK2fmm",
        "colab_type": "code",
        "colab": {
          "base_uri": "https://localhost:8080/",
          "height": 310
        },
        "outputId": "a728e53a-6d93-4cf6-b58b-7fc67df89ac4"
      },
      "source": [
        "#Simuler les rendements d’un portefeuille équi-pondéré (sauf ‘’DJI’’) sur 30 jours. Présentez 5 trajectoires. Pour vous simplifier la vie, vous pouvez choisir de simuler un portefeuille d e10 titres uniquement. \n",
        "#I.\tUtilisez un mouvement brownien arithmétique\n",
        "#a.\tSimulez 30 rendements\n",
        "#b.\tComposez ces rendements pour trouver les prix des titres ou du portefeuille à chaque période.\n",
        "#c.\tRépétez pour chacune des trajectoires\n",
        "\n",
        "def Brownian(seed, N):\n",
        "    np.random.seed(seed)                         \n",
        "    dt = 1./N                                    # time step\n",
        "    b = np.random.normal(0., 1., int(N))*np.sqrt(dt)  # brownian increments\n",
        "    W = np.cumsum(b)                             # brownian path\n",
        "    return W, b\n",
        "\n",
        "So = daily_df2_dow.loc['2019-12-30'].mean()\n",
        "mu = daily_df2_dow_avg.mean()\n",
        "sigma = daily_df2_dow_std.mean()\n",
        "\n",
        "seed = [1,2,3,4,5]\n",
        "N = 30\n",
        "W1 = Brownian(seed[0], N)[0]\n",
        "W2 = Brownian(seed[1], N)[0]\n",
        "W3 = Brownian(seed[2], N)[0]\n",
        "W4 = Brownian(seed[3], N)[0]\n",
        "W5 = Brownian(seed[4], N)[0]\n",
        "T = 1 # periode de 1\n",
        "\n",
        "def GBM(So, mu, sigma, W, T, N):\n",
        "    t = np.linspace(0., 1., N+1)\n",
        "    S = []\n",
        "    S.append(So)\n",
        "    for i in range(1, int(N+1)):\n",
        "        drift = (mu - 0.5 * sigma**2) * t[i]\n",
        "        diffusion = sigma * W[i-1]\n",
        "        S_temp = So*np.exp(drift + diffusion)\n",
        "        S.append(S_temp)\n",
        "    return S, t\n",
        "\n",
        "soln1 = GBM(So, mu, sigma, W1, T, N)[0]\n",
        "soln2 = GBM(So, mu, sigma, W2, T, N)[0]\n",
        "soln3 = GBM(So, mu, sigma, W3, T, N)[0]\n",
        "soln4 = GBM(So, mu, sigma, W4, T, N)[0]\n",
        "soln5 = GBM(So, mu, sigma, W5, T, N)[0]\n",
        "t = GBM(So, mu, sigma, W1, T, N)[1]\n",
        "\n",
        "plt.plot(soln1)\n",
        "plt.plot(soln2)\n",
        "plt.plot(soln3)\n",
        "plt.plot(soln4)\n",
        "plt.plot(soln5)\n",
        "plt.ylabel(\"Prix de l'action, $\")\n",
        "plt.xlabel(\"Périodes\")\n",
        "plt.title('5 trajectoires Browniennnes arithmétiques pour \\n un portefeuille équi-pondéré de 30 titres')\n",
        "plt.show()"
      ],
      "execution_count": null,
      "outputs": [
        {
          "output_type": "display_data",
          "data": {
            "image/png": "[encoded data removed]",
            "text/plain": [
              "<Figure size 432x288 with 1 Axes>"
            ]
          },
          "metadata": {
            "tags": [],
            "needs_background": "light"
          }
        }
      ]
    },
    {
      "cell_type": "markdown",
      "metadata": {
        "id": "TZABPIhg2jtZ",
        "colab_type": "text"
      },
      "source": [
        "Question 4 "
      ]
    },
    {
      "cell_type": "code",
      "metadata": {
        "id": "HC6EXzVyxYSB",
        "colab_type": "code",
        "colab": {}
      },
      "source": [
        "#Q4.1\tFaites une réplication en utilisant un ‘’Ridge regression’’.Ajouter les contraintes suivantes :\n",
        "#•\tSomme de poids = 1\n",
        "#•\tPoids ≥ 0\n",
        "#•\tMax Poids = 20%"
      ],
      "execution_count": null,
      "outputs": []
    },
    {
      "cell_type": "code",
      "metadata": {
        "id": "0bVSzAh02sY6",
        "colab_type": "code",
        "colab": {
          "base_uri": "https://localhost:8080/",
          "height": 136
        },
        "outputId": "8bd3b368-b948-4c80-b481-b90907b49e39"
      },
      "source": [
        "from sklearn.linear_model import LinearRegression\n",
        "from sklearn.linear_model import Ridge\n",
        "\n",
        "X=daily_df2_dow.loc['2010-02-16':]\n",
        "Y=DJI.loc['2010-02-16':]\n",
        "\n",
        "print(\"Valeurs nulles dans le dataframe X:\", X.isnull().sum().sum()) # On vérifie que X et Y n'ont pas de valeur nulles\n",
        "print(\"Valeurs nulles dans le dataframe Y:\", Y.isnull().sum().sum())\n",
        "dates = Y.index\n",
        "lr = LinearRegression()\n",
        "lr.fit(X, Y)\n",
        "print(lr.coef_)"
      ],
      "execution_count": 52,
      "outputs": [
        {
          "output_type": "stream",
          "text": [
            "Valeurs nulles dans le dataframe X: 0\n",
            "Valeurs nulles dans le dataframe Y: 0\n",
            "[[0.02972048 0.02221321 0.07095785 0.04696492 0.0123584  0.04353509\n",
            "  0.00706501 0.03609915 0.002742   0.0348714  0.04098575 0.06916907\n",
            "  0.01761847 0.04905043 0.01911084 0.0272883  0.04646717 0.0581967\n",
            "  0.02201174 0.03243193 0.01751556 0.01776982 0.03218254 0.03927206\n",
            "  0.03557148 0.04465742 0.01878588 0.0276825  0.03070332 0.03795513]]\n"
          ],
          "name": "stdout"
        }
      ]
    },
    {
      "cell_type": "code",
      "metadata": {
        "id": "7LEH-61xzRea",
        "colab_type": "code",
        "colab": {
          "base_uri": "https://localhost:8080/",
          "height": 68
        },
        "outputId": "1394ad0a-b316-49b7-9320-57d84e01f185"
      },
      "source": [
        "rr = Ridge(alpha=0.005) # on recherche des faibles alpha puisque : \"the smaller the value of alpha, the higher would be the magnitude of the coefficients.\"\n",
        "rr.fit(X, Y)\n",
        "\n",
        "\n",
        "rr100 = Ridge(alpha=100)\n",
        "rr100.fit(X,Y) #  comparaison avec le alpha \n",
        "\n",
        "Lin_resultat=lr.score(X, Y)\n",
        "\n",
        "Ridge_resultat = rr.score(X,Y)\n",
        "\n",
        "Ridge_resultat100 = rr100.score(X,Y)\n",
        "\n",
        "print(Lin_resultat)\n",
        "print (Ridge_resultat)\n",
        "print(Ridge_resultat100)\n",
        "\n",
        "prediction=rr.predict(X)"
      ],
      "execution_count": 53,
      "outputs": [
        {
          "output_type": "stream",
          "text": [
            "0.9865082533950358\n",
            "0.9865025892730978\n",
            "0.11124730284285511\n"
          ],
          "name": "stdout"
        }
      ]
    },
    {
      "cell_type": "code",
      "metadata": {
        "id": "e9Y9fbpb3Abn",
        "colab_type": "code",
        "colab": {
          "base_uri": "https://localhost:8080/",
          "height": 295
        },
        "outputId": "020f29ff-88c7-4866-de76-ccff44564221"
      },
      "source": [
        "\n",
        "plt.scatter(dates_base, Y, color='blue', label= 'DJI intervalle') \n",
        "plt.plot(dates_base, prediction, color='red', linewidth=3, label = 'Prediction intervalle')\n",
        "plt.title('Linear Regression | Temps vs. Intervalle')\n",
        "plt.legend()\n",
        "plt.xlabel('Date')\n",
        "plt.show()"
      ],
      "execution_count": 54,
      "outputs": [
        {
          "output_type": "display_data",
          "data": {
            "image/png": "[encoded data removed]",
            "text/plain": [
              "<Figure size 432x288 with 1 Axes>"
            ]
          },
          "metadata": {
            "tags": [],
            "needs_background": "light"
          }
        }
      ]
    }
  ]
}